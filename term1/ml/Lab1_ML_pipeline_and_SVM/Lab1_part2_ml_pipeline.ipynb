{
 "cells": [
  {
   "cell_type": "markdown",
   "metadata": {
    "nbgrader": {
     "grade": false,
     "grade_id": "cell-86e0de040aac317a",
     "locked": true,
     "schema_version": 2,
     "solution": false
    }
   },
   "source": [
    "# Lab assignment №1, part 2\n",
    "\n",
    "This lab assignment consists of several parts. You are supposed to make some transformations, train some models, estimate the quality of the models and explain your results.\n",
    "\n",
    "Several comments:\n",
    "* Don't hesitate to ask questions, it's a good practice.\n",
    "* No private/public sharing, please. The copied assignments will be graded with 0 points.\n",
    "* Blocks of this lab will be graded separately."
   ]
  },
  {
   "cell_type": "markdown",
   "metadata": {},
   "source": [
    "__*This is the second part of the assignment. First and third parts are waiting for you in the same directory.*__"
   ]
  },
  {
   "cell_type": "markdown",
   "metadata": {
    "nbgrader": {
     "grade": false,
     "grade_id": "cell-512ba712fc0fc065",
     "locked": true,
     "schema_version": 2,
     "solution": false
    }
   },
   "source": [
    "## Part 2. Data preprocessing, model training and evaluation."
   ]
  },
  {
   "cell_type": "markdown",
   "metadata": {
    "nbgrader": {
     "grade": false,
     "grade_id": "cell-b656a4266174b009",
     "locked": true,
     "schema_version": 2,
     "solution": false
    }
   },
   "source": [
    "### 1. Reading the data\n",
    "Today we work with the [dataset](https://archive.ics.uci.edu/ml/datasets/Statlog+%28Vehicle+Silhouettes%29), describing different cars for multiclass ($k=4$) classification problem. The data is available below."
   ]
  },
  {
   "cell_type": "code",
   "execution_count": 1,
   "metadata": {},
   "outputs": [],
   "source": [
    "# If on colab, uncomment the following lines\n",
    "\n",
    "# ! wget https://raw.githubusercontent.com/girafe-ai/ml-mipt/basic_s21/homeworks_basic/Lab1_ML_pipeline_and_SVM/car_data.csv"
   ]
  },
  {
   "cell_type": "code",
   "execution_count": 2,
   "metadata": {
    "nbgrader": {
     "grade": false,
     "grade_id": "cell-eebac6bfdf73d0bc",
     "locked": true,
     "schema_version": 2,
     "solution": false
    }
   },
   "outputs": [
    {
     "name": "stdout",
     "output_type": "stream",
     "text": [
      "(846, 19) (846,)\n",
      "(549, 19) (549,) (297, 19) (297,)\n"
     ]
    }
   ],
   "source": [
    "import pandas as pd\n",
    "import numpy as np\n",
    "from sklearn.model_selection import train_test_split\n",
    "\n",
    "dataset = pd.read_csv('car_data.csv', delimiter=',', header=None).values\n",
    "data = dataset[:, :-1].astype(int)\n",
    "target = dataset[:, -1]\n",
    "\n",
    "print(data.shape, target.shape)\n",
    "\n",
    "X_train, X_test, y_train, y_test = train_test_split(data, target, test_size=0.35)\n",
    "print(X_train.shape, y_train.shape, X_test.shape, y_test.shape)"
   ]
  },
  {
   "cell_type": "markdown",
   "metadata": {
    "nbgrader": {
     "grade": false,
     "grade_id": "cell-88b1a0f688568f2c",
     "locked": true,
     "schema_version": 2,
     "solution": false
    }
   },
   "source": [
    "To get some insights about the dataset, `pandas` might be used. The `train` part is transformed to `pd.DataFrame` below."
   ]
  },
  {
   "cell_type": "code",
   "execution_count": 3,
   "metadata": {},
   "outputs": [
    {
     "data": {
      "text/html": [
       "<div>\n",
       "<style scoped>\n",
       "    .dataframe tbody tr th:only-of-type {\n",
       "        vertical-align: middle;\n",
       "    }\n",
       "\n",
       "    .dataframe tbody tr th {\n",
       "        vertical-align: top;\n",
       "    }\n",
       "\n",
       "    .dataframe thead th {\n",
       "        text-align: right;\n",
       "    }\n",
       "</style>\n",
       "<table border=\"1\" class=\"dataframe\">\n",
       "  <thead>\n",
       "    <tr style=\"text-align: right;\">\n",
       "      <th></th>\n",
       "      <th>0</th>\n",
       "      <th>1</th>\n",
       "      <th>2</th>\n",
       "      <th>3</th>\n",
       "      <th>4</th>\n",
       "      <th>5</th>\n",
       "      <th>6</th>\n",
       "      <th>7</th>\n",
       "      <th>8</th>\n",
       "      <th>9</th>\n",
       "      <th>10</th>\n",
       "      <th>11</th>\n",
       "      <th>12</th>\n",
       "      <th>13</th>\n",
       "      <th>14</th>\n",
       "      <th>15</th>\n",
       "      <th>16</th>\n",
       "      <th>17</th>\n",
       "      <th>18</th>\n",
       "    </tr>\n",
       "  </thead>\n",
       "  <tbody>\n",
       "    <tr>\n",
       "      <th>0</th>\n",
       "      <td>314</td>\n",
       "      <td>90</td>\n",
       "      <td>42</td>\n",
       "      <td>63</td>\n",
       "      <td>126</td>\n",
       "      <td>55</td>\n",
       "      <td>7</td>\n",
       "      <td>152</td>\n",
       "      <td>45</td>\n",
       "      <td>19</td>\n",
       "      <td>142</td>\n",
       "      <td>173</td>\n",
       "      <td>336</td>\n",
       "      <td>173</td>\n",
       "      <td>81</td>\n",
       "      <td>0</td>\n",
       "      <td>15</td>\n",
       "      <td>180</td>\n",
       "      <td>184</td>\n",
       "    </tr>\n",
       "    <tr>\n",
       "      <th>1</th>\n",
       "      <td>500</td>\n",
       "      <td>101</td>\n",
       "      <td>56</td>\n",
       "      <td>100</td>\n",
       "      <td>204</td>\n",
       "      <td>62</td>\n",
       "      <td>12</td>\n",
       "      <td>227</td>\n",
       "      <td>30</td>\n",
       "      <td>25</td>\n",
       "      <td>178</td>\n",
       "      <td>231</td>\n",
       "      <td>757</td>\n",
       "      <td>204</td>\n",
       "      <td>73</td>\n",
       "      <td>0</td>\n",
       "      <td>11</td>\n",
       "      <td>186</td>\n",
       "      <td>197</td>\n",
       "    </tr>\n",
       "    <tr>\n",
       "      <th>2</th>\n",
       "      <td>349</td>\n",
       "      <td>89</td>\n",
       "      <td>40</td>\n",
       "      <td>69</td>\n",
       "      <td>147</td>\n",
       "      <td>58</td>\n",
       "      <td>6</td>\n",
       "      <td>132</td>\n",
       "      <td>50</td>\n",
       "      <td>18</td>\n",
       "      <td>137</td>\n",
       "      <td>155</td>\n",
       "      <td>260</td>\n",
       "      <td>151</td>\n",
       "      <td>61</td>\n",
       "      <td>16</td>\n",
       "      <td>6</td>\n",
       "      <td>203</td>\n",
       "      <td>209</td>\n",
       "    </tr>\n",
       "    <tr>\n",
       "      <th>3</th>\n",
       "      <td>730</td>\n",
       "      <td>101</td>\n",
       "      <td>55</td>\n",
       "      <td>107</td>\n",
       "      <td>200</td>\n",
       "      <td>61</td>\n",
       "      <td>11</td>\n",
       "      <td>225</td>\n",
       "      <td>30</td>\n",
       "      <td>25</td>\n",
       "      <td>178</td>\n",
       "      <td>228</td>\n",
       "      <td>730</td>\n",
       "      <td>204</td>\n",
       "      <td>74</td>\n",
       "      <td>8</td>\n",
       "      <td>35</td>\n",
       "      <td>187</td>\n",
       "      <td>201</td>\n",
       "    </tr>\n",
       "    <tr>\n",
       "      <th>4</th>\n",
       "      <td>336</td>\n",
       "      <td>89</td>\n",
       "      <td>44</td>\n",
       "      <td>76</td>\n",
       "      <td>125</td>\n",
       "      <td>54</td>\n",
       "      <td>10</td>\n",
       "      <td>156</td>\n",
       "      <td>44</td>\n",
       "      <td>20</td>\n",
       "      <td>151</td>\n",
       "      <td>163</td>\n",
       "      <td>352</td>\n",
       "      <td>176</td>\n",
       "      <td>76</td>\n",
       "      <td>12</td>\n",
       "      <td>12</td>\n",
       "      <td>184</td>\n",
       "      <td>193</td>\n",
       "    </tr>\n",
       "    <tr>\n",
       "      <th>5</th>\n",
       "      <td>582</td>\n",
       "      <td>108</td>\n",
       "      <td>53</td>\n",
       "      <td>104</td>\n",
       "      <td>181</td>\n",
       "      <td>56</td>\n",
       "      <td>11</td>\n",
       "      <td>220</td>\n",
       "      <td>31</td>\n",
       "      <td>25</td>\n",
       "      <td>167</td>\n",
       "      <td>226</td>\n",
       "      <td>712</td>\n",
       "      <td>214</td>\n",
       "      <td>72</td>\n",
       "      <td>15</td>\n",
       "      <td>18</td>\n",
       "      <td>189</td>\n",
       "      <td>199</td>\n",
       "    </tr>\n",
       "    <tr>\n",
       "      <th>6</th>\n",
       "      <td>759</td>\n",
       "      <td>94</td>\n",
       "      <td>50</td>\n",
       "      <td>84</td>\n",
       "      <td>138</td>\n",
       "      <td>57</td>\n",
       "      <td>10</td>\n",
       "      <td>156</td>\n",
       "      <td>44</td>\n",
       "      <td>20</td>\n",
       "      <td>170</td>\n",
       "      <td>171</td>\n",
       "      <td>351</td>\n",
       "      <td>187</td>\n",
       "      <td>77</td>\n",
       "      <td>5</td>\n",
       "      <td>6</td>\n",
       "      <td>182</td>\n",
       "      <td>191</td>\n",
       "    </tr>\n",
       "    <tr>\n",
       "      <th>7</th>\n",
       "      <td>237</td>\n",
       "      <td>85</td>\n",
       "      <td>45</td>\n",
       "      <td>65</td>\n",
       "      <td>128</td>\n",
       "      <td>56</td>\n",
       "      <td>8</td>\n",
       "      <td>151</td>\n",
       "      <td>45</td>\n",
       "      <td>19</td>\n",
       "      <td>145</td>\n",
       "      <td>170</td>\n",
       "      <td>332</td>\n",
       "      <td>186</td>\n",
       "      <td>81</td>\n",
       "      <td>1</td>\n",
       "      <td>10</td>\n",
       "      <td>179</td>\n",
       "      <td>184</td>\n",
       "    </tr>\n",
       "    <tr>\n",
       "      <th>8</th>\n",
       "      <td>242</td>\n",
       "      <td>85</td>\n",
       "      <td>42</td>\n",
       "      <td>59</td>\n",
       "      <td>132</td>\n",
       "      <td>58</td>\n",
       "      <td>7</td>\n",
       "      <td>149</td>\n",
       "      <td>46</td>\n",
       "      <td>19</td>\n",
       "      <td>144</td>\n",
       "      <td>166</td>\n",
       "      <td>320</td>\n",
       "      <td>172</td>\n",
       "      <td>83</td>\n",
       "      <td>8</td>\n",
       "      <td>4</td>\n",
       "      <td>179</td>\n",
       "      <td>182</td>\n",
       "    </tr>\n",
       "    <tr>\n",
       "      <th>9</th>\n",
       "      <td>13</td>\n",
       "      <td>89</td>\n",
       "      <td>42</td>\n",
       "      <td>85</td>\n",
       "      <td>144</td>\n",
       "      <td>58</td>\n",
       "      <td>10</td>\n",
       "      <td>152</td>\n",
       "      <td>44</td>\n",
       "      <td>19</td>\n",
       "      <td>144</td>\n",
       "      <td>173</td>\n",
       "      <td>345</td>\n",
       "      <td>161</td>\n",
       "      <td>72</td>\n",
       "      <td>8</td>\n",
       "      <td>13</td>\n",
       "      <td>187</td>\n",
       "      <td>197</td>\n",
       "    </tr>\n",
       "    <tr>\n",
       "      <th>10</th>\n",
       "      <td>601</td>\n",
       "      <td>93</td>\n",
       "      <td>39</td>\n",
       "      <td>78</td>\n",
       "      <td>164</td>\n",
       "      <td>66</td>\n",
       "      <td>8</td>\n",
       "      <td>139</td>\n",
       "      <td>48</td>\n",
       "      <td>18</td>\n",
       "      <td>140</td>\n",
       "      <td>157</td>\n",
       "      <td>290</td>\n",
       "      <td>126</td>\n",
       "      <td>64</td>\n",
       "      <td>4</td>\n",
       "      <td>7</td>\n",
       "      <td>201</td>\n",
       "      <td>208</td>\n",
       "    </tr>\n",
       "    <tr>\n",
       "      <th>11</th>\n",
       "      <td>311</td>\n",
       "      <td>93</td>\n",
       "      <td>45</td>\n",
       "      <td>83</td>\n",
       "      <td>142</td>\n",
       "      <td>56</td>\n",
       "      <td>10</td>\n",
       "      <td>157</td>\n",
       "      <td>43</td>\n",
       "      <td>20</td>\n",
       "      <td>155</td>\n",
       "      <td>180</td>\n",
       "      <td>364</td>\n",
       "      <td>188</td>\n",
       "      <td>75</td>\n",
       "      <td>1</td>\n",
       "      <td>21</td>\n",
       "      <td>184</td>\n",
       "      <td>197</td>\n",
       "    </tr>\n",
       "    <tr>\n",
       "      <th>12</th>\n",
       "      <td>362</td>\n",
       "      <td>95</td>\n",
       "      <td>47</td>\n",
       "      <td>81</td>\n",
       "      <td>176</td>\n",
       "      <td>59</td>\n",
       "      <td>7</td>\n",
       "      <td>168</td>\n",
       "      <td>39</td>\n",
       "      <td>20</td>\n",
       "      <td>152</td>\n",
       "      <td>196</td>\n",
       "      <td>425</td>\n",
       "      <td>185</td>\n",
       "      <td>67</td>\n",
       "      <td>4</td>\n",
       "      <td>4</td>\n",
       "      <td>191</td>\n",
       "      <td>198</td>\n",
       "    </tr>\n",
       "    <tr>\n",
       "      <th>13</th>\n",
       "      <td>831</td>\n",
       "      <td>100</td>\n",
       "      <td>47</td>\n",
       "      <td>70</td>\n",
       "      <td>185</td>\n",
       "      <td>70</td>\n",
       "      <td>7</td>\n",
       "      <td>162</td>\n",
       "      <td>40</td>\n",
       "      <td>20</td>\n",
       "      <td>153</td>\n",
       "      <td>179</td>\n",
       "      <td>406</td>\n",
       "      <td>172</td>\n",
       "      <td>68</td>\n",
       "      <td>9</td>\n",
       "      <td>6</td>\n",
       "      <td>200</td>\n",
       "      <td>205</td>\n",
       "    </tr>\n",
       "    <tr>\n",
       "      <th>14</th>\n",
       "      <td>484</td>\n",
       "      <td>90</td>\n",
       "      <td>48</td>\n",
       "      <td>78</td>\n",
       "      <td>143</td>\n",
       "      <td>60</td>\n",
       "      <td>11</td>\n",
       "      <td>161</td>\n",
       "      <td>43</td>\n",
       "      <td>20</td>\n",
       "      <td>159</td>\n",
       "      <td>172</td>\n",
       "      <td>374</td>\n",
       "      <td>186</td>\n",
       "      <td>75</td>\n",
       "      <td>2</td>\n",
       "      <td>2</td>\n",
       "      <td>184</td>\n",
       "      <td>193</td>\n",
       "    </tr>\n",
       "  </tbody>\n",
       "</table>\n",
       "</div>"
      ],
      "text/plain": [
       "     0    1   2    3    4   5   6    7   8   9    10   11   12   13  14  15  \\\n",
       "0   314   90  42   63  126  55   7  152  45  19  142  173  336  173  81   0   \n",
       "1   500  101  56  100  204  62  12  227  30  25  178  231  757  204  73   0   \n",
       "2   349   89  40   69  147  58   6  132  50  18  137  155  260  151  61  16   \n",
       "3   730  101  55  107  200  61  11  225  30  25  178  228  730  204  74   8   \n",
       "4   336   89  44   76  125  54  10  156  44  20  151  163  352  176  76  12   \n",
       "5   582  108  53  104  181  56  11  220  31  25  167  226  712  214  72  15   \n",
       "6   759   94  50   84  138  57  10  156  44  20  170  171  351  187  77   5   \n",
       "7   237   85  45   65  128  56   8  151  45  19  145  170  332  186  81   1   \n",
       "8   242   85  42   59  132  58   7  149  46  19  144  166  320  172  83   8   \n",
       "9    13   89  42   85  144  58  10  152  44  19  144  173  345  161  72   8   \n",
       "10  601   93  39   78  164  66   8  139  48  18  140  157  290  126  64   4   \n",
       "11  311   93  45   83  142  56  10  157  43  20  155  180  364  188  75   1   \n",
       "12  362   95  47   81  176  59   7  168  39  20  152  196  425  185  67   4   \n",
       "13  831  100  47   70  185  70   7  162  40  20  153  179  406  172  68   9   \n",
       "14  484   90  48   78  143  60  11  161  43  20  159  172  374  186  75   2   \n",
       "\n",
       "    16   17   18  \n",
       "0   15  180  184  \n",
       "1   11  186  197  \n",
       "2    6  203  209  \n",
       "3   35  187  201  \n",
       "4   12  184  193  \n",
       "5   18  189  199  \n",
       "6    6  182  191  \n",
       "7   10  179  184  \n",
       "8    4  179  182  \n",
       "9   13  187  197  \n",
       "10   7  201  208  \n",
       "11  21  184  197  \n",
       "12   4  191  198  \n",
       "13   6  200  205  \n",
       "14   2  184  193  "
      ]
     },
     "execution_count": 3,
     "metadata": {},
     "output_type": "execute_result"
    }
   ],
   "source": [
    "X_train_pd = pd.DataFrame(X_train)\n",
    "\n",
    "# First 15 rows of our dataset.\n",
    "X_train_pd.head(15)"
   ]
  },
  {
   "cell_type": "markdown",
   "metadata": {
    "nbgrader": {
     "grade": false,
     "grade_id": "cell-98e7d91d77d65fcf",
     "locked": true,
     "schema_version": 2,
     "solution": false
    }
   },
   "source": [
    "Methods `describe` and `info` deliver some useful information."
   ]
  },
  {
   "cell_type": "code",
   "execution_count": 4,
   "metadata": {},
   "outputs": [
    {
     "data": {
      "text/html": [
       "<div>\n",
       "<style scoped>\n",
       "    .dataframe tbody tr th:only-of-type {\n",
       "        vertical-align: middle;\n",
       "    }\n",
       "\n",
       "    .dataframe tbody tr th {\n",
       "        vertical-align: top;\n",
       "    }\n",
       "\n",
       "    .dataframe thead th {\n",
       "        text-align: right;\n",
       "    }\n",
       "</style>\n",
       "<table border=\"1\" class=\"dataframe\">\n",
       "  <thead>\n",
       "    <tr style=\"text-align: right;\">\n",
       "      <th></th>\n",
       "      <th>0</th>\n",
       "      <th>1</th>\n",
       "      <th>2</th>\n",
       "      <th>3</th>\n",
       "      <th>4</th>\n",
       "      <th>5</th>\n",
       "      <th>6</th>\n",
       "      <th>7</th>\n",
       "      <th>8</th>\n",
       "      <th>9</th>\n",
       "      <th>10</th>\n",
       "      <th>11</th>\n",
       "      <th>12</th>\n",
       "      <th>13</th>\n",
       "      <th>14</th>\n",
       "      <th>15</th>\n",
       "      <th>16</th>\n",
       "      <th>17</th>\n",
       "      <th>18</th>\n",
       "    </tr>\n",
       "  </thead>\n",
       "  <tbody>\n",
       "    <tr>\n",
       "      <th>count</th>\n",
       "      <td>549.000000</td>\n",
       "      <td>549.000000</td>\n",
       "      <td>549.000000</td>\n",
       "      <td>549.000000</td>\n",
       "      <td>549.000000</td>\n",
       "      <td>549.000000</td>\n",
       "      <td>549.000000</td>\n",
       "      <td>549.000000</td>\n",
       "      <td>549.000000</td>\n",
       "      <td>549.000000</td>\n",
       "      <td>549.000000</td>\n",
       "      <td>549.000000</td>\n",
       "      <td>549.000000</td>\n",
       "      <td>549.000000</td>\n",
       "      <td>549.000000</td>\n",
       "      <td>549.000000</td>\n",
       "      <td>549.000000</td>\n",
       "      <td>549.000000</td>\n",
       "      <td>549.000000</td>\n",
       "    </tr>\n",
       "    <tr>\n",
       "      <th>mean</th>\n",
       "      <td>419.903461</td>\n",
       "      <td>93.624772</td>\n",
       "      <td>44.752277</td>\n",
       "      <td>82.258652</td>\n",
       "      <td>169.380692</td>\n",
       "      <td>61.843352</td>\n",
       "      <td>8.466302</td>\n",
       "      <td>168.582878</td>\n",
       "      <td>40.936248</td>\n",
       "      <td>20.559199</td>\n",
       "      <td>147.746812</td>\n",
       "      <td>188.335155</td>\n",
       "      <td>438.520947</td>\n",
       "      <td>174.058288</td>\n",
       "      <td>72.167577</td>\n",
       "      <td>6.479053</td>\n",
       "      <td>12.599271</td>\n",
       "      <td>189.134791</td>\n",
       "      <td>195.843352</td>\n",
       "    </tr>\n",
       "    <tr>\n",
       "      <th>std</th>\n",
       "      <td>241.823041</td>\n",
       "      <td>7.928133</td>\n",
       "      <td>6.054544</td>\n",
       "      <td>15.710849</td>\n",
       "      <td>31.953931</td>\n",
       "      <td>7.090979</td>\n",
       "      <td>4.209961</td>\n",
       "      <td>32.793912</td>\n",
       "      <td>7.745350</td>\n",
       "      <td>2.560696</td>\n",
       "      <td>14.290636</td>\n",
       "      <td>30.376360</td>\n",
       "      <td>173.771480</td>\n",
       "      <td>32.051172</td>\n",
       "      <td>6.781870</td>\n",
       "      <td>4.962452</td>\n",
       "      <td>8.975823</td>\n",
       "      <td>5.985997</td>\n",
       "      <td>7.272151</td>\n",
       "    </tr>\n",
       "    <tr>\n",
       "      <th>min</th>\n",
       "      <td>0.000000</td>\n",
       "      <td>73.000000</td>\n",
       "      <td>33.000000</td>\n",
       "      <td>40.000000</td>\n",
       "      <td>105.000000</td>\n",
       "      <td>48.000000</td>\n",
       "      <td>3.000000</td>\n",
       "      <td>112.000000</td>\n",
       "      <td>26.000000</td>\n",
       "      <td>17.000000</td>\n",
       "      <td>119.000000</td>\n",
       "      <td>130.000000</td>\n",
       "      <td>184.000000</td>\n",
       "      <td>109.000000</td>\n",
       "      <td>59.000000</td>\n",
       "      <td>0.000000</td>\n",
       "      <td>0.000000</td>\n",
       "      <td>176.000000</td>\n",
       "      <td>181.000000</td>\n",
       "    </tr>\n",
       "    <tr>\n",
       "      <th>25%</th>\n",
       "      <td>213.000000</td>\n",
       "      <td>88.000000</td>\n",
       "      <td>40.000000</td>\n",
       "      <td>70.000000</td>\n",
       "      <td>143.000000</td>\n",
       "      <td>57.000000</td>\n",
       "      <td>7.000000</td>\n",
       "      <td>146.000000</td>\n",
       "      <td>33.000000</td>\n",
       "      <td>19.000000</td>\n",
       "      <td>137.000000</td>\n",
       "      <td>168.000000</td>\n",
       "      <td>318.000000</td>\n",
       "      <td>149.000000</td>\n",
       "      <td>68.000000</td>\n",
       "      <td>3.000000</td>\n",
       "      <td>5.000000</td>\n",
       "      <td>185.000000</td>\n",
       "      <td>191.000000</td>\n",
       "    </tr>\n",
       "    <tr>\n",
       "      <th>50%</th>\n",
       "      <td>425.000000</td>\n",
       "      <td>93.000000</td>\n",
       "      <td>44.000000</td>\n",
       "      <td>80.000000</td>\n",
       "      <td>169.000000</td>\n",
       "      <td>62.000000</td>\n",
       "      <td>8.000000</td>\n",
       "      <td>157.000000</td>\n",
       "      <td>43.000000</td>\n",
       "      <td>20.000000</td>\n",
       "      <td>145.000000</td>\n",
       "      <td>179.000000</td>\n",
       "      <td>366.000000</td>\n",
       "      <td>173.000000</td>\n",
       "      <td>71.000000</td>\n",
       "      <td>6.000000</td>\n",
       "      <td>11.000000</td>\n",
       "      <td>189.000000</td>\n",
       "      <td>197.000000</td>\n",
       "    </tr>\n",
       "    <tr>\n",
       "      <th>75%</th>\n",
       "      <td>628.000000</td>\n",
       "      <td>99.000000</td>\n",
       "      <td>49.000000</td>\n",
       "      <td>98.000000</td>\n",
       "      <td>195.000000</td>\n",
       "      <td>65.000000</td>\n",
       "      <td>10.000000</td>\n",
       "      <td>198.000000</td>\n",
       "      <td>46.000000</td>\n",
       "      <td>23.000000</td>\n",
       "      <td>158.000000</td>\n",
       "      <td>216.000000</td>\n",
       "      <td>586.000000</td>\n",
       "      <td>198.000000</td>\n",
       "      <td>75.000000</td>\n",
       "      <td>9.000000</td>\n",
       "      <td>18.000000</td>\n",
       "      <td>193.000000</td>\n",
       "      <td>201.000000</td>\n",
       "    </tr>\n",
       "    <tr>\n",
       "      <th>max</th>\n",
       "      <td>845.000000</td>\n",
       "      <td>116.000000</td>\n",
       "      <td>58.000000</td>\n",
       "      <td>112.000000</td>\n",
       "      <td>322.000000</td>\n",
       "      <td>133.000000</td>\n",
       "      <td>55.000000</td>\n",
       "      <td>261.000000</td>\n",
       "      <td>61.000000</td>\n",
       "      <td>28.000000</td>\n",
       "      <td>182.000000</td>\n",
       "      <td>288.000000</td>\n",
       "      <td>998.000000</td>\n",
       "      <td>268.000000</td>\n",
       "      <td>127.000000</td>\n",
       "      <td>22.000000</td>\n",
       "      <td>40.000000</td>\n",
       "      <td>206.000000</td>\n",
       "      <td>211.000000</td>\n",
       "    </tr>\n",
       "  </tbody>\n",
       "</table>\n",
       "</div>"
      ],
      "text/plain": [
       "               0           1           2           3           4           5   \\\n",
       "count  549.000000  549.000000  549.000000  549.000000  549.000000  549.000000   \n",
       "mean   419.903461   93.624772   44.752277   82.258652  169.380692   61.843352   \n",
       "std    241.823041    7.928133    6.054544   15.710849   31.953931    7.090979   \n",
       "min      0.000000   73.000000   33.000000   40.000000  105.000000   48.000000   \n",
       "25%    213.000000   88.000000   40.000000   70.000000  143.000000   57.000000   \n",
       "50%    425.000000   93.000000   44.000000   80.000000  169.000000   62.000000   \n",
       "75%    628.000000   99.000000   49.000000   98.000000  195.000000   65.000000   \n",
       "max    845.000000  116.000000   58.000000  112.000000  322.000000  133.000000   \n",
       "\n",
       "               6           7           8           9           10          11  \\\n",
       "count  549.000000  549.000000  549.000000  549.000000  549.000000  549.000000   \n",
       "mean     8.466302  168.582878   40.936248   20.559199  147.746812  188.335155   \n",
       "std      4.209961   32.793912    7.745350    2.560696   14.290636   30.376360   \n",
       "min      3.000000  112.000000   26.000000   17.000000  119.000000  130.000000   \n",
       "25%      7.000000  146.000000   33.000000   19.000000  137.000000  168.000000   \n",
       "50%      8.000000  157.000000   43.000000   20.000000  145.000000  179.000000   \n",
       "75%     10.000000  198.000000   46.000000   23.000000  158.000000  216.000000   \n",
       "max     55.000000  261.000000   61.000000   28.000000  182.000000  288.000000   \n",
       "\n",
       "               12          13          14          15          16          17  \\\n",
       "count  549.000000  549.000000  549.000000  549.000000  549.000000  549.000000   \n",
       "mean   438.520947  174.058288   72.167577    6.479053   12.599271  189.134791   \n",
       "std    173.771480   32.051172    6.781870    4.962452    8.975823    5.985997   \n",
       "min    184.000000  109.000000   59.000000    0.000000    0.000000  176.000000   \n",
       "25%    318.000000  149.000000   68.000000    3.000000    5.000000  185.000000   \n",
       "50%    366.000000  173.000000   71.000000    6.000000   11.000000  189.000000   \n",
       "75%    586.000000  198.000000   75.000000    9.000000   18.000000  193.000000   \n",
       "max    998.000000  268.000000  127.000000   22.000000   40.000000  206.000000   \n",
       "\n",
       "               18  \n",
       "count  549.000000  \n",
       "mean   195.843352  \n",
       "std      7.272151  \n",
       "min    181.000000  \n",
       "25%    191.000000  \n",
       "50%    197.000000  \n",
       "75%    201.000000  \n",
       "max    211.000000  "
      ]
     },
     "execution_count": 4,
     "metadata": {},
     "output_type": "execute_result"
    }
   ],
   "source": [
    "X_train_pd.describe()"
   ]
  },
  {
   "cell_type": "code",
   "execution_count": 5,
   "metadata": {},
   "outputs": [
    {
     "name": "stdout",
     "output_type": "stream",
     "text": [
      "<class 'pandas.core.frame.DataFrame'>\n",
      "RangeIndex: 549 entries, 0 to 548\n",
      "Data columns (total 19 columns):\n",
      " #   Column  Non-Null Count  Dtype\n",
      "---  ------  --------------  -----\n",
      " 0   0       549 non-null    int64\n",
      " 1   1       549 non-null    int64\n",
      " 2   2       549 non-null    int64\n",
      " 3   3       549 non-null    int64\n",
      " 4   4       549 non-null    int64\n",
      " 5   5       549 non-null    int64\n",
      " 6   6       549 non-null    int64\n",
      " 7   7       549 non-null    int64\n",
      " 8   8       549 non-null    int64\n",
      " 9   9       549 non-null    int64\n",
      " 10  10      549 non-null    int64\n",
      " 11  11      549 non-null    int64\n",
      " 12  12      549 non-null    int64\n",
      " 13  13      549 non-null    int64\n",
      " 14  14      549 non-null    int64\n",
      " 15  15      549 non-null    int64\n",
      " 16  16      549 non-null    int64\n",
      " 17  17      549 non-null    int64\n",
      " 18  18      549 non-null    int64\n",
      "dtypes: int64(19)\n",
      "memory usage: 81.6 KB\n"
     ]
    }
   ],
   "source": [
    "X_train_pd.info()"
   ]
  },
  {
   "cell_type": "markdown",
   "metadata": {
    "nbgrader": {
     "grade": false,
     "grade_id": "cell-be844269be69c387",
     "locked": true,
     "schema_version": 2,
     "solution": false
    }
   },
   "source": [
    "### 2. Machine Learning pipeline\n",
    "Here you are supposed to perform the desired transformations. Please, explain your results briefly after each task."
   ]
  },
  {
   "cell_type": "markdown",
   "metadata": {},
   "source": [
    "#### 2.0. Data preprocessing\n",
    "* Make some transformations of the dataset (if necessary). Briefly explain the transformations"
   ]
  },
  {
   "cell_type": "code",
   "execution_count": 6,
   "metadata": {},
   "outputs": [],
   "source": [
    "from sklearn.preprocessing import StandardScaler, LabelEncoder\n",
    "from sklearn.linear_model import LogisticRegression\n",
    "from sklearn.model_selection import RandomizedSearchCV\n",
    "from scipy.stats import uniform\n",
    "from sklearn.metrics import roc_auc_score, f1_score\n",
    "from scikitplot.metrics import plot_roc"
   ]
  },
  {
   "cell_type": "code",
   "execution_count": 7,
   "metadata": {},
   "outputs": [],
   "source": [
    "scaler = StandardScaler()\n",
    "le = LabelEncoder()"
   ]
  },
  {
   "cell_type": "code",
   "execution_count": 8,
   "metadata": {},
   "outputs": [],
   "source": [
    "# le.fit(y_train)\n",
    "# y_train_le = le.transform(y_train)\n",
    "# y_test_le = le.transform(y_test)\n",
    "y_train_le = y_train\n",
    "y_test_le = y_test"
   ]
  },
  {
   "cell_type": "code",
   "execution_count": 9,
   "metadata": {},
   "outputs": [],
   "source": [
    "scaler.fit(data)\n",
    "X_test_pd = pd.DataFrame(X_test)\n",
    "X_train_pd_scaled = pd.DataFrame(scaler.transform(X_train_pd))\n",
    "X_test_pd_scaled = scaler.transform(X_test_pd)"
   ]
  },
  {
   "cell_type": "code",
   "execution_count": 10,
   "metadata": {},
   "outputs": [
    {
     "data": {
      "text/html": [
       "<div>\n",
       "<style scoped>\n",
       "    .dataframe tbody tr th:only-of-type {\n",
       "        vertical-align: middle;\n",
       "    }\n",
       "\n",
       "    .dataframe tbody tr th {\n",
       "        vertical-align: top;\n",
       "    }\n",
       "\n",
       "    .dataframe thead th {\n",
       "        text-align: right;\n",
       "    }\n",
       "</style>\n",
       "<table border=\"1\" class=\"dataframe\">\n",
       "  <thead>\n",
       "    <tr style=\"text-align: right;\">\n",
       "      <th></th>\n",
       "      <th>0</th>\n",
       "      <th>1</th>\n",
       "      <th>2</th>\n",
       "      <th>3</th>\n",
       "      <th>4</th>\n",
       "      <th>5</th>\n",
       "      <th>6</th>\n",
       "      <th>7</th>\n",
       "      <th>8</th>\n",
       "      <th>9</th>\n",
       "      <th>10</th>\n",
       "      <th>11</th>\n",
       "      <th>12</th>\n",
       "      <th>13</th>\n",
       "      <th>14</th>\n",
       "      <th>15</th>\n",
       "      <th>16</th>\n",
       "      <th>17</th>\n",
       "      <th>18</th>\n",
       "    </tr>\n",
       "  </thead>\n",
       "  <tbody>\n",
       "    <tr>\n",
       "      <th>0</th>\n",
       "      <td>-0.444273</td>\n",
       "      <td>-0.446982</td>\n",
       "      <td>-0.464094</td>\n",
       "      <td>-1.211039</td>\n",
       "      <td>-1.283642</td>\n",
       "      <td>-0.849087</td>\n",
       "      <td>-0.340845</td>\n",
       "      <td>-0.506820</td>\n",
       "      <td>0.520843</td>\n",
       "      <td>-0.610954</td>\n",
       "      <td>-0.413510</td>\n",
       "      <td>-0.497997</td>\n",
       "      <td>-0.588439</td>\n",
       "      <td>-0.052366</td>\n",
       "      <td>1.141032</td>\n",
       "      <td>-1.297353</td>\n",
       "      <td>0.268958</td>\n",
       "      <td>-1.450029</td>\n",
       "      <td>-1.564671</td>\n",
       "    </tr>\n",
       "    <tr>\n",
       "      <th>1</th>\n",
       "      <td>0.317338</td>\n",
       "      <td>0.889655</td>\n",
       "      <td>1.806342</td>\n",
       "      <td>1.136348</td>\n",
       "      <td>1.048030</td>\n",
       "      <td>0.038833</td>\n",
       "      <td>0.746467</td>\n",
       "      <td>1.750495</td>\n",
       "      <td>-1.400524</td>\n",
       "      <td>1.705106</td>\n",
       "      <td>2.068039</td>\n",
       "      <td>1.350533</td>\n",
       "      <td>1.795639</td>\n",
       "      <td>0.900681</td>\n",
       "      <td>0.071877</td>\n",
       "      <td>-1.297353</td>\n",
       "      <td>-0.179173</td>\n",
       "      <td>-0.476052</td>\n",
       "      <td>0.183957</td>\n",
       "    </tr>\n",
       "    <tr>\n",
       "      <th>2</th>\n",
       "      <td>-0.300959</td>\n",
       "      <td>-0.568495</td>\n",
       "      <td>-0.788441</td>\n",
       "      <td>-0.830382</td>\n",
       "      <td>-0.655884</td>\n",
       "      <td>-0.468550</td>\n",
       "      <td>-0.558308</td>\n",
       "      <td>-1.108770</td>\n",
       "      <td>1.161299</td>\n",
       "      <td>-0.996965</td>\n",
       "      <td>-0.758169</td>\n",
       "      <td>-1.071679</td>\n",
       "      <td>-1.018819</td>\n",
       "      <td>-0.728722</td>\n",
       "      <td>-1.531855</td>\n",
       "      <td>1.957693</td>\n",
       "      <td>-0.739337</td>\n",
       "      <td>2.283552</td>\n",
       "      <td>1.798076</td>\n",
       "    </tr>\n",
       "    <tr>\n",
       "      <th>3</th>\n",
       "      <td>1.259116</td>\n",
       "      <td>0.889655</td>\n",
       "      <td>1.644168</td>\n",
       "      <td>1.580448</td>\n",
       "      <td>0.928457</td>\n",
       "      <td>-0.088012</td>\n",
       "      <td>0.529004</td>\n",
       "      <td>1.690300</td>\n",
       "      <td>-1.400524</td>\n",
       "      <td>1.705106</td>\n",
       "      <td>2.068039</td>\n",
       "      <td>1.254920</td>\n",
       "      <td>1.642741</td>\n",
       "      <td>0.900681</td>\n",
       "      <td>0.205522</td>\n",
       "      <td>0.330170</td>\n",
       "      <td>2.509613</td>\n",
       "      <td>-0.313722</td>\n",
       "      <td>0.721997</td>\n",
       "    </tr>\n",
       "    <tr>\n",
       "      <th>4</th>\n",
       "      <td>-0.354190</td>\n",
       "      <td>-0.568495</td>\n",
       "      <td>-0.139746</td>\n",
       "      <td>-0.386282</td>\n",
       "      <td>-1.313535</td>\n",
       "      <td>-0.975933</td>\n",
       "      <td>0.311542</td>\n",
       "      <td>-0.386429</td>\n",
       "      <td>0.392752</td>\n",
       "      <td>-0.224944</td>\n",
       "      <td>0.206877</td>\n",
       "      <td>-0.816709</td>\n",
       "      <td>-0.497833</td>\n",
       "      <td>0.039865</td>\n",
       "      <td>0.472810</td>\n",
       "      <td>1.143931</td>\n",
       "      <td>-0.067140</td>\n",
       "      <td>-0.800711</td>\n",
       "      <td>-0.354082</td>\n",
       "    </tr>\n",
       "  </tbody>\n",
       "</table>\n",
       "</div>"
      ],
      "text/plain": [
       "         0         1         2         3         4         5         6   \\\n",
       "0 -0.444273 -0.446982 -0.464094 -1.211039 -1.283642 -0.849087 -0.340845   \n",
       "1  0.317338  0.889655  1.806342  1.136348  1.048030  0.038833  0.746467   \n",
       "2 -0.300959 -0.568495 -0.788441 -0.830382 -0.655884 -0.468550 -0.558308   \n",
       "3  1.259116  0.889655  1.644168  1.580448  0.928457 -0.088012  0.529004   \n",
       "4 -0.354190 -0.568495 -0.139746 -0.386282 -1.313535 -0.975933  0.311542   \n",
       "\n",
       "         7         8         9         10        11        12        13  \\\n",
       "0 -0.506820  0.520843 -0.610954 -0.413510 -0.497997 -0.588439 -0.052366   \n",
       "1  1.750495 -1.400524  1.705106  2.068039  1.350533  1.795639  0.900681   \n",
       "2 -1.108770  1.161299 -0.996965 -0.758169 -1.071679 -1.018819 -0.728722   \n",
       "3  1.690300 -1.400524  1.705106  2.068039  1.254920  1.642741  0.900681   \n",
       "4 -0.386429  0.392752 -0.224944  0.206877 -0.816709 -0.497833  0.039865   \n",
       "\n",
       "         14        15        16        17        18  \n",
       "0  1.141032 -1.297353  0.268958 -1.450029 -1.564671  \n",
       "1  0.071877 -1.297353 -0.179173 -0.476052  0.183957  \n",
       "2 -1.531855  1.957693 -0.739337  2.283552  1.798076  \n",
       "3  0.205522  0.330170  2.509613 -0.313722  0.721997  \n",
       "4  0.472810  1.143931 -0.067140 -0.800711 -0.354082  "
      ]
     },
     "execution_count": 10,
     "metadata": {},
     "output_type": "execute_result"
    }
   ],
   "source": [
    "X_train_pd_scaled.head()"
   ]
  },
  {
   "cell_type": "code",
   "execution_count": null,
   "metadata": {
    "nbgrader": {
     "grade": true,
     "grade_id": "cell-a1514aa189a49fca",
     "locked": false,
     "points": 15,
     "schema_version": 2,
     "solution": true
    }
   },
   "outputs": [],
   "source": [
    "### YOUR CODE HERE"
   ]
  },
  {
   "cell_type": "markdown",
   "metadata": {},
   "source": [
    "#### 2.1. Basic logistic regression\n",
    "* Find optimal hyperparameters for logistic regression with cross-validation on the `train` data (small grid/random search is enough, no need to find the *best* parameters).\n",
    "\n",
    "* Estimate the model quality with `f1` and `accuracy` scores.\n",
    "* Plot a ROC-curve for the trained model. For the multiclass case you might use `scikitplot` library (e.g. `scikitplot.metrics.plot_roc(test_labels, predicted_proba)`).\n",
    "\n",
    "*Note: please, use the following hyperparameters for logistic regression: `multi_class='multinomial'`, `solver='saga'` `tol=1e-3` and ` max_iter=500`.*"
   ]
  },
  {
   "cell_type": "code",
   "execution_count": null,
   "metadata": {
    "nbgrader": {
     "grade": true,
     "grade_id": "cell-1dd5ad5d0845cbbb",
     "locked": false,
     "points": 5,
     "schema_version": 2,
     "solution": true
    }
   },
   "outputs": [],
   "source": [
    "### YOUR CODE HERE"
   ]
  },
  {
   "cell_type": "code",
   "execution_count": 186,
   "metadata": {},
   "outputs": [],
   "source": [
    "log_reg = LogisticRegression(multi_class='multinomial', solver='saga', tol=1e-3, max_iter=500.)"
   ]
  },
  {
   "cell_type": "code",
   "execution_count": 14,
   "metadata": {},
   "outputs": [],
   "source": [
    "param_dist = {\n",
    "        'C':uniform(loc=0, scale=5),\n",
    "        'penalty':['l1', 'l2']\n",
    "        }"
   ]
  },
  {
   "cell_type": "code",
   "execution_count": 15,
   "metadata": {},
   "outputs": [
    {
     "name": "stdout",
     "output_type": "stream",
     "text": [
      "{'C': 4.180393817686888, 'penalty': 'l1'}\n"
     ]
    }
   ],
   "source": [
    "clf = RandomizedSearchCV(log_reg, param_dist, random_state=0, cv=5, scoring='roc_auc_ovr')\n",
    "search = clf.fit(X_train_pd_scaled, y_train_le)\n",
    "new_params = search.best_params_\n",
    "print(new_params)"
   ]
  },
  {
   "cell_type": "code",
   "execution_count": 16,
   "metadata": {},
   "outputs": [],
   "source": [
    "log_reg_best = LogisticRegression(multi_class='multinomial', \n",
    "                                  solver='saga', \n",
    "                                  tol=1e-3, \n",
    "                                  max_iter=500., \n",
    "                                  **new_params\n",
    "                                 )"
   ]
  },
  {
   "cell_type": "code",
   "execution_count": 17,
   "metadata": {},
   "outputs": [
    {
     "data": {
      "text/plain": [
       "LogisticRegression(max_iter=500.0, multi_class='multinomial', solver='saga',\n",
       "                   tol=0.001)"
      ]
     },
     "execution_count": 17,
     "metadata": {},
     "output_type": "execute_result"
    }
   ],
   "source": [
    "log_reg.fit(X_train_pd_scaled, y_train_le)"
   ]
  },
  {
   "cell_type": "code",
   "execution_count": 18,
   "metadata": {},
   "outputs": [
    {
     "data": {
      "text/plain": [
       "LogisticRegression(C=4.180393817686888, max_iter=500.0,\n",
       "                   multi_class='multinomial', penalty='l1', solver='saga',\n",
       "                   tol=0.001)"
      ]
     },
     "execution_count": 18,
     "metadata": {},
     "output_type": "execute_result"
    }
   ],
   "source": [
    "log_reg_best.fit(X_train_pd_scaled, y_train_le)"
   ]
  },
  {
   "cell_type": "code",
   "execution_count": 19,
   "metadata": {},
   "outputs": [],
   "source": [
    "preds_prob = log_reg.predict_proba(X_test_pd_scaled)\n",
    "preds = log_reg.predict(X_test_pd_scaled)\n",
    "\n",
    "preds_prob_best = log_reg_best.predict_proba(X_test_pd_scaled)\n",
    "preds_best = log_reg_best.predict(X_test_pd_scaled)"
   ]
  },
  {
   "cell_type": "code",
   "execution_count": 20,
   "metadata": {},
   "outputs": [
    {
     "name": "stdout",
     "output_type": "stream",
     "text": [
      "default LogReg:\n",
      "roc_auc_score = 0.9343440000817143\n",
      "f1_score = 0.7720827031131178\n",
      "---------------\n",
      "LogReg with {'C': 4.180393817686888, 'penalty': 'l1'}\n",
      "roc_auc_score = 0.9381660043976895\n",
      "f1_score = 0.773897909767475\n"
     ]
    }
   ],
   "source": [
    "print(\"default LogReg:\")\n",
    "print(f\"roc_auc_score = {roc_auc_score(y_test_le, preds_prob, multi_class='ovr')}\")\n",
    "print(f\"f1_score = {f1_score(y_test_le, preds, average='macro')}\")\n",
    "print(\"---------------\")\n",
    "print(f\"LogReg with {search.best_params_}\")\n",
    "print(f\"roc_auc_score = {roc_auc_score(y_test_le, preds_prob_best, multi_class='ovr')}\")\n",
    "print(f\"f1_score = {f1_score(y_test_le, preds_best, average='macro')}\")"
   ]
  },
  {
   "cell_type": "code",
   "execution_count": 21,
   "metadata": {},
   "outputs": [
    {
     "data": {
      "text/plain": [
       "<AxesSubplot:title={'center':'ROC Curves'}, xlabel='False Positive Rate', ylabel='True Positive Rate'>"
      ]
     },
     "execution_count": 21,
     "metadata": {},
     "output_type": "execute_result"
    },
    {
     "data": {
      "image/png": "[encoded data removed]",
      "text/plain": [
       "<Figure size 432x288 with 1 Axes>"
      ]
     },
     "metadata": {
      "needs_background": "light"
     },
     "output_type": "display_data"
    }
   ],
   "source": [
    "plot_roc(y_test_le, preds_prob_best)"
   ]
  },
  {
   "cell_type": "code",
   "execution_count": null,
   "metadata": {},
   "outputs": [],
   "source": [
    "# You might use this command to install scikit-plot. \n",
    "# Warning, if you a running locally, don't call pip from within jupyter, call it from terminal in the corresponding \n",
    "# virtual environment instead\n",
    "\n",
    "# ! pip install scikit-plot"
   ]
  },
  {
   "cell_type": "markdown",
   "metadata": {},
   "source": [
    "#### 2.2. PCA: explained variance plot\n",
    "* Apply the PCA to the train part of the data. Build the explaided variance plot. "
   ]
  },
  {
   "cell_type": "code",
   "execution_count": 94,
   "metadata": {},
   "outputs": [],
   "source": [
    "from sklearn.decomposition import PCA\n",
    "from matplotlib import pyplot as plt"
   ]
  },
  {
   "cell_type": "code",
   "execution_count": 95,
   "metadata": {},
   "outputs": [],
   "source": [
    "pca = PCA(n_components=2)\n",
    "principalComponents = pca.fit_transform(X_train_pd_scaled)\n",
    "principalDf = pd.DataFrame(data = principalComponents\n",
    "             , columns = ['principal component 1', 'principal component 2'])\n",
    "finalDf = pd.concat([principalDf, pd.DataFrame({'TARGET': y_train})], axis = 1)"
   ]
  },
  {
   "cell_type": "code",
   "execution_count": 96,
   "metadata": {},
   "outputs": [],
   "source": [
    "finalDf = pd.concat([principalDf, pd.DataFrame({'TARGET': y_train})], axis = 1)"
   ]
  },
  {
   "cell_type": "code",
   "execution_count": 97,
   "metadata": {},
   "outputs": [
    {
     "data": {
      "text/plain": [
       "array(['bus', 'opel', 'van', 'saab'], dtype=object)"
      ]
     },
     "execution_count": 97,
     "metadata": {},
     "output_type": "execute_result"
    }
   ],
   "source": [
    "finalDf['TARGET'].unique()"
   ]
  },
  {
   "cell_type": "code",
   "execution_count": 98,
   "metadata": {},
   "outputs": [
    {
     "data": {
      "image/png": "[encoded data removed]",
      "text/plain": [
       "<Figure size 576x576 with 1 Axes>"
      ]
     },
     "metadata": {
      "needs_background": "light"
     },
     "output_type": "display_data"
    }
   ],
   "source": [
    "\n",
    "fig = plt.figure(figsize = (8,8))\n",
    "ax = fig.add_subplot(1,1,1) \n",
    "ax.set_xlabel('Principal Component 1', fontsize = 15)\n",
    "ax.set_ylabel('Principal Component 2', fontsize = 15)\n",
    "ax.set_title('2 component PCA', fontsize = 20)\n",
    "targets = finalDf['TARGET'].unique()\n",
    "colors = ['r', 'g', 'b', 'y']\n",
    "for target, color in zip(targets,colors):\n",
    "    indicesToKeep = finalDf['TARGET'] == target\n",
    "    ax.scatter(finalDf.loc[indicesToKeep, 'principal component 1']\n",
    "               , finalDf.loc[indicesToKeep, 'principal component 2']\n",
    "               , c = color\n",
    "               , s = 50)\n",
    "ax.legend(targets)\n",
    "ax.grid()"
   ]
  },
  {
   "cell_type": "code",
   "execution_count": 99,
   "metadata": {},
   "outputs": [],
   "source": [
    "pca = PCA(n_components=3)\n",
    "principalComponents = pca.fit_transform(X_train_pd_scaled)\n",
    "principalDf = pd.DataFrame(data = principalComponents\n",
    "             , columns = ['principal component 1', 'principal component 2', 'principal component 3'])\n",
    "finalDf = pd.concat([principalDf, pd.DataFrame({'TARGET': y_train})], axis = 1)"
   ]
  },
  {
   "cell_type": "code",
   "execution_count": 100,
   "metadata": {},
   "outputs": [
    {
     "data": {
      "image/png": "[encoded data removed]",
      "text/plain": [
       "<Figure size 576x576 with 1 Axes>"
      ]
     },
     "metadata": {
      "needs_background": "light"
     },
     "output_type": "display_data"
    }
   ],
   "source": [
    "fig = plt.figure(figsize=(8,8))\n",
    "ax = fig.add_subplot(111, projection='3d')\n",
    "ax.set_xlabel('Principal Component 1', fontsize = 15)\n",
    "ax.set_ylabel('Principal Component 2', fontsize = 15)\n",
    "ax.set_zlabel('Principal Component 3', fontsize = 15)\n",
    "ax.set_title('3 component PCA', fontsize = 20)\n",
    "\n",
    "targets = finalDf['TARGET'].unique()\n",
    "colors = ['r', 'g', 'b', 'y']\n",
    "\n",
    "for target, color in zip(targets,colors):\n",
    "    indicesToKeep = finalDf['TARGET'] == target\n",
    "    ax.scatter(finalDf.loc[indicesToKeep, 'principal component 1']\n",
    "               , finalDf.loc[indicesToKeep, 'principal component 2']\n",
    "               , finalDf.loc[indicesToKeep, 'principal component 3']\n",
    "               , c = color)\n",
    "ax.legend(targets)\n",
    "plt.show()"
   ]
  },
  {
   "cell_type": "code",
   "execution_count": null,
   "metadata": {
    "nbgrader": {
     "grade": true,
     "grade_id": "cell-c6c614740bce090e",
     "locked": false,
     "points": 10,
     "schema_version": 2,
     "solution": true
    }
   },
   "outputs": [],
   "source": [
    "### YOUR CODE HERE"
   ]
  },
  {
   "cell_type": "markdown",
   "metadata": {
    "nbgrader": {
     "grade": false,
     "grade_id": "cell-0c1fe666f52fe53c",
     "locked": true,
     "schema_version": 2,
     "solution": false
    }
   },
   "source": [
    "#### 2.3. PCA trasformation\n",
    "* Select the appropriate number of components. Briefly explain your choice. Should you normalize the data?\n",
    "\n",
    "*Use `fit` and `transform` methods to transform the `train` and `test` parts.*"
   ]
  },
  {
   "cell_type": "code",
   "execution_count": 112,
   "metadata": {},
   "outputs": [],
   "source": [
    "N_COMP = 4\n",
    "pca = PCA(n_components=N_COMP)\n",
    "X_train_pce = pca.fit_transform(X_train_pd_scaled)\n",
    "X_test_pce = pca.transform(X_test_pd_scaled)"
   ]
  },
  {
   "cell_type": "code",
   "execution_count": 114,
   "metadata": {},
   "outputs": [
    {
     "data": {
      "text/plain": [
       "(297, 4)"
      ]
     },
     "execution_count": 114,
     "metadata": {},
     "output_type": "execute_result"
    }
   ],
   "source": []
  },
  {
   "cell_type": "code",
   "execution_count": null,
   "metadata": {
    "nbgrader": {
     "grade": true,
     "grade_id": "cell-96ab18d96473ef71",
     "locked": false,
     "points": 5,
     "schema_version": 2,
     "solution": true
    }
   },
   "outputs": [],
   "source": [
    "### YOUR CODE HERE"
   ]
  },
  {
   "cell_type": "markdown",
   "metadata": {},
   "source": [
    "**Note: From this point `sklearn` [Pipeline](https://scikit-learn.org/stable/modules/compose.html) might be useful to perform transformations on the data. Refer to the [docs](https://scikit-learn.org/stable/modules/generated/sklearn.pipeline.Pipeline.html) for more information.**"
   ]
  },
  {
   "cell_type": "markdown",
   "metadata": {
    "nbgrader": {
     "grade": false,
     "grade_id": "cell-d28b58a35c94e988",
     "locked": true,
     "schema_version": 2,
     "solution": false
    }
   },
   "source": [
    "#### 2.4. Logistic regression on PCA-preprocessed data.\n",
    "* Find optimal hyperparameters for logistic regression with cross-validation on the transformed by PCA `train` data.\n",
    "\n",
    "* Estimate the model quality with `f1` and `accuracy` scores.\n",
    "* Plot a ROC-curve for the trained model. For the multiclass case you might use `scikitplot` library (e.g. `scikitplot.metrics.plot_roc(test_labels, predicted_proba)`).\n",
    "\n",
    "*Note: please, use the following hyperparameters for logistic regression: `multi_class='multinomial'`, `solver='saga'` and `tol=1e-3`*"
   ]
  },
  {
   "cell_type": "code",
   "execution_count": 296,
   "metadata": {},
   "outputs": [],
   "source": [
    "from sklearn.pipeline import Pipeline"
   ]
  },
  {
   "cell_type": "code",
   "execution_count": 297,
   "metadata": {},
   "outputs": [],
   "source": [
    "pipe = Pipeline([('scaler', StandardScaler()) , ('pca', PCA(n_components=5)), ('clf', log_reg)])"
   ]
  },
  {
   "cell_type": "code",
   "execution_count": 298,
   "metadata": {},
   "outputs": [],
   "source": [
    "param_dist = {\n",
    "        'pca__n_components':[2, 3, 4, 5],\n",
    "        'clf__C':uniform(loc=0, scale=5),\n",
    "        'clf__penalty':['l1', 'l2']\n",
    "        }\n",
    "\n",
    "randomized_search = RandomizedSearchCV(pipe, param_dist, random_state=0, cv=5, scoring='roc_auc_ovr')"
   ]
  },
  {
   "cell_type": "code",
   "execution_count": 299,
   "metadata": {},
   "outputs": [],
   "source": [
    "clf = randomized_search.fit(X_train_pd_scaled, y_train_le)"
   ]
  },
  {
   "cell_type": "code",
   "execution_count": 300,
   "metadata": {},
   "outputs": [
    {
     "data": {
      "text/plain": [
       "{'clf__C': 3.0138168803582195, 'clf__penalty': 'l2', 'pca__n_components': 5}"
      ]
     },
     "execution_count": 300,
     "metadata": {},
     "output_type": "execute_result"
    }
   ],
   "source": [
    "clf.best_params_"
   ]
  },
  {
   "cell_type": "code",
   "execution_count": 301,
   "metadata": {},
   "outputs": [
    {
     "data": {
      "text/plain": [
       "Pipeline(steps=[('scaler', StandardScaler()), ('pca', PCA(n_components=5)),\n",
       "                ('clf',\n",
       "                 LogisticRegression(C=3.0138168803582195, max_iter=500.0,\n",
       "                                    multi_class='multinomial', solver='saga',\n",
       "                                    tol=0.001))])"
      ]
     },
     "execution_count": 301,
     "metadata": {},
     "output_type": "execute_result"
    }
   ],
   "source": [
    "pipe.set_params(**clf.best_params_)"
   ]
  },
  {
   "cell_type": "code",
   "execution_count": 302,
   "metadata": {},
   "outputs": [
    {
     "data": {
      "text/plain": [
       "Pipeline(steps=[('scaler', StandardScaler()), ('pca', PCA(n_components=5)),\n",
       "                ('clf',\n",
       "                 LogisticRegression(C=3.0138168803582195, max_iter=500.0,\n",
       "                                    multi_class='multinomial', solver='saga',\n",
       "                                    tol=0.001))])"
      ]
     },
     "execution_count": 302,
     "metadata": {},
     "output_type": "execute_result"
    }
   ],
   "source": [
    "pipe.fit(X_train, y_train)"
   ]
  },
  {
   "cell_type": "code",
   "execution_count": 303,
   "metadata": {},
   "outputs": [
    {
     "name": "stdout",
     "output_type": "stream",
     "text": [
      "0.7402711568927386\n",
      "0.4394757395976908\n"
     ]
    }
   ],
   "source": [
    "print(roc_auc_score(y_test, pipe.predict_proba(X_test), multi_class='ovr'))\n",
    "print(f1_score(y_test, pipe.predict(X_test), average='macro'))"
   ]
  },
  {
   "cell_type": "code",
   "execution_count": 304,
   "metadata": {
    "nbgrader": {
     "grade": true,
     "grade_id": "cell-12d53ea45258fa82",
     "locked": false,
     "points": 5,
     "schema_version": 2,
     "solution": true
    }
   },
   "outputs": [],
   "source": [
    "### YOUR CODE HERE"
   ]
  },
  {
   "cell_type": "markdown",
   "metadata": {
    "nbgrader": {
     "grade": false,
     "grade_id": "cell-4fbf16c64076e139",
     "locked": true,
     "schema_version": 2,
     "solution": false
    }
   },
   "source": [
    "#### 2.5. Decision tree\n",
    "* Now train a desicion tree on the same data. Find optimal tree depth (`max_depth`) using cross-validation.\n",
    "\n",
    "* Measure the model quality using the same metrics you used above."
   ]
  },
  {
   "cell_type": "code",
   "execution_count": 313,
   "metadata": {
    "nbgrader": {
     "grade": true,
     "grade_id": "cell-748ed20b51c67fab",
     "locked": false,
     "points": 15,
     "schema_version": 2,
     "solution": true
    }
   },
   "outputs": [],
   "source": [
    "from sklearn.tree import DecisionTreeClassifier\n",
    "\n",
    "pipe_dtc = Pipeline([('scaler', StandardScaler()) , ('pca', PCA(n_components=5)), ('clf', DecisionTreeClassifier())])\n",
    "\n",
    "param_dist = {\n",
    "        'pca__n_components':[5],\n",
    "        'clf__max_depth':[3,4,5,6,7]\n",
    "        }\n",
    "\n",
    "randomized_search = RandomizedSearchCV(pipe, param_dist, random_state=0, cv=5, scoring='roc_auc_ovr')"
   ]
  },
  {
   "cell_type": "code",
   "execution_count": 314,
   "metadata": {},
   "outputs": [
    {
     "name": "stderr",
     "output_type": "stream",
     "text": [
      "/Users/yashinrostislav/opt/anaconda3/lib/python3.8/site-packages/sklearn/model_selection/_search.py:285: UserWarning: The total space of parameters 5 is smaller than n_iter=10. Running 5 iterations. For exhaustive searches, use GridSearchCV.\n",
      "  warnings.warn(\n"
     ]
    }
   ],
   "source": [
    "grid_search_dtc = randomized_search.fit(X_train_pd_scaled, y_train_le)"
   ]
  },
  {
   "cell_type": "code",
   "execution_count": 315,
   "metadata": {},
   "outputs": [
    {
     "data": {
      "text/plain": [
       "{'pca__n_components': 5, 'clf__max_depth': 5}"
      ]
     },
     "execution_count": 315,
     "metadata": {},
     "output_type": "execute_result"
    }
   ],
   "source": [
    "grid_search_dtc.best_params_"
   ]
  },
  {
   "cell_type": "code",
   "execution_count": 316,
   "metadata": {},
   "outputs": [
    {
     "data": {
      "text/plain": [
       "Pipeline(steps=[('scaler', StandardScaler()), ('pca', PCA(n_components=5)),\n",
       "                ('clf', DecisionTreeClassifier(max_depth=5))])"
      ]
     },
     "execution_count": 316,
     "metadata": {},
     "output_type": "execute_result"
    }
   ],
   "source": [
    "pipe_dtc.set_params(**grid_search_dtc.best_params_)"
   ]
  },
  {
   "cell_type": "code",
   "execution_count": 317,
   "metadata": {},
   "outputs": [
    {
     "data": {
      "text/plain": [
       "Pipeline(steps=[('scaler', StandardScaler()), ('pca', PCA(n_components=5)),\n",
       "                ('clf', DecisionTreeClassifier(max_depth=5))])"
      ]
     },
     "execution_count": 317,
     "metadata": {},
     "output_type": "execute_result"
    }
   ],
   "source": [
    "pipe.fit(X_train, y_train)"
   ]
  },
  {
   "cell_type": "code",
   "execution_count": 318,
   "metadata": {},
   "outputs": [
    {
     "name": "stdout",
     "output_type": "stream",
     "text": [
      "0.7986536752384905\n",
      "0.5674236700518406\n"
     ]
    }
   ],
   "source": [
    "print(roc_auc_score(y_test, pipe.predict_proba(X_test), multi_class='ovr'))\n",
    "print(f1_score(y_test, pipe.predict(X_test), average='macro'))"
   ]
  },
  {
   "cell_type": "markdown",
   "metadata": {
    "nbgrader": {
     "grade": false,
     "grade_id": "cell-9eadd4d8a03ae67a",
     "locked": true,
     "schema_version": 2,
     "solution": false
    }
   },
   "source": [
    "#### 2.6. Bagging.\n",
    "Here starts the ensembling part.\n",
    "\n",
    "First we will use the __Bagging__ approach. Build an ensemble of $N$ algorithms varying N from $N_{min}=2$ to $N_{max}=100$ (with step 5).\n",
    "\n",
    "We will build two ensembles: of logistic regressions and of decision trees.\n",
    "\n",
    "*Comment: each ensemble should be constructed from models of the same family, so logistic regressions should not be mixed up with decision trees.*\n",
    "\n",
    "\n",
    "*Hint 1: To build a __Bagging__ ensebmle varying the ensemble size efficiently you might generate $N_{max}$ subsets of `train` data (of the same size as the original dataset) using bootstrap procedure once. Then you train a new instance of logistic regression/decision tree with optimal hyperparameters you estimated before on each subset (so you train it from scratch). Finally, to get an ensemble of $N$ models you average the $N$ out of $N_{max}$ models predictions.*\n",
    "\n",
    "*Hint 2: sklearn might help you with this taks. Some appropriate function/class might be out there.*\n",
    "\n",
    "* Plot `f1` and `accuracy` scores plots w.r.t. the size of the ensemble.\n",
    "\n",
    "* Briefly analyse the plot. What is the optimal number of algorithms? Explain your answer.\n",
    "\n",
    "* How do you think, are the hyperparameters for the decision trees you found in 2.5 optimal for trees used in ensemble? "
   ]
  },
  {
   "cell_type": "code",
   "execution_count": null,
   "metadata": {
    "nbgrader": {
     "grade": true,
     "grade_id": "cell-8fc95a2b206bdae1",
     "locked": false,
     "points": 35,
     "schema_version": 2,
     "solution": true
    }
   },
   "outputs": [],
   "source": [
    "# YOUR CODE HERE"
   ]
  },
  {
   "cell_type": "code",
   "execution_count": null,
   "metadata": {},
   "outputs": [],
   "source": []
  },
  {
   "cell_type": "markdown",
   "metadata": {
    "nbgrader": {
     "grade": false,
     "grade_id": "cell-241b7691ab44cbfb",
     "locked": true,
     "schema_version": 2,
     "solution": false
    }
   },
   "source": [
    "#### 2.7. Random Forest\n",
    "Now we will work with the Random Forest (its `sklearn` implementation).\n",
    "\n",
    "* * Plot `f1` and `accuracy` scores plots w.r.t. the number of trees in Random Forest.\n",
    "\n",
    "* What is the optimal number of trees you've got? Is it different from the optimal number of logistic regressions/decision trees in 2.6? Explain the results briefly."
   ]
  },
  {
   "cell_type": "code",
   "execution_count": null,
   "metadata": {
    "nbgrader": {
     "grade": true,
     "grade_id": "cell-888755d0f3d91620",
     "locked": false,
     "points": 15,
     "schema_version": 2,
     "solution": true
    }
   },
   "outputs": [],
   "source": [
    "from sklearn.ensemble import RandomForestClassifier\n",
    "\n",
    "# YOUR CODE HERE"
   ]
  },
  {
   "cell_type": "markdown",
   "metadata": {
    "nbgrader": {
     "grade": false,
     "grade_id": "cell-99191c0852538d4d",
     "locked": true,
     "schema_version": 2,
     "solution": false
    }
   },
   "source": [
    "#### 2.8. Learning curve\n",
    "Your goal is to estimate, how does the model behaviour change with the increase of the `train` dataset size.\n",
    "\n",
    "* Split the training data into 10 equal (almost) parts. Then train the models from above (Logistic regression, Desicion Tree, Random Forest) with optimal hyperparameters you have selected on 1 part, 2 parts (combined, so the train size in increased by 2 times), 3 parts and so on.\n",
    "\n",
    "* Build a plot of `accuracy` and `f1` scores on `test` part, varying the `train` dataset size (so the axes will be score - dataset size.\n",
    "\n",
    "* Analyse the final plot. Can you make any conlusions using it? "
   ]
  },
  {
   "cell_type": "code",
   "execution_count": null,
   "metadata": {
    "nbgrader": {
     "grade": true,
     "grade_id": "cell-e39bc7e7dff61ff9",
     "locked": false,
     "points": 15,
     "schema_version": 2,
     "solution": true
    }
   },
   "outputs": [],
   "source": [
    "# YOUR CODE HERE"
   ]
  }
 ],
 "metadata": {
  "celltoolbar": "Create Assignment",
  "kernelspec": {
   "display_name": "Python 3",
   "language": "python",
   "name": "python3"
  },
  "language_info": {
   "codemirror_mode": {
    "name": "ipython",
    "version": 3
   },
   "file_extension": ".py",
   "mimetype": "text/x-python",
   "name": "python",
   "nbconvert_exporter": "python",
   "pygments_lexer": "ipython3",
   "version": "3.8.10"
  },
  "toc": {
   "base_numbering": 1,
   "nav_menu": {},
   "number_sections": false,
   "sideBar": true,
   "skip_h1_title": false,
   "title_cell": "Table of Contents",
   "title_sidebar": "Contents",
   "toc_cell": false,
   "toc_position": {},
   "toc_section_display": true,
   "toc_window_display": false
  }
 },
 "nbformat": 4,
 "nbformat_minor": 2
}
