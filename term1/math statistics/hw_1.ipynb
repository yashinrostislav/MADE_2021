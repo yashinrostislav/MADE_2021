{
 "cells": [
  {
   "cell_type": "code",
   "execution_count": 1,
   "id": "e7be4dea",
   "metadata": {},
   "outputs": [],
   "source": [
    "import numpy as np\n",
    "from tqdm.notebook import tqdm\n",
    "from random import choices\n",
    "import seaborn as sns"
   ]
  },
  {
   "cell_type": "code",
   "execution_count": 2,
   "id": "3123c1c7",
   "metadata": {},
   "outputs": [],
   "source": [
    "m = 200\n",
    "n = 100\n",
    "p = 0.04\n",
    "R = 0.01\n",
    "\n",
    "N_ITERATIONS = 1 * 10 ** 5"
   ]
  },
  {
   "cell_type": "code",
   "execution_count": 3,
   "id": "b74d90c4",
   "metadata": {},
   "outputs": [],
   "source": [
    "# матрица корреляций, которую хотим получить\n",
    "required_matrix = np.ones([n, n]) * R - np.diag([R - 1] * n)\n",
    "\n",
    "# начальная матрица до переставления элементов\n",
    "n_ones = round(p * m)\n",
    "n_zeros = round(m * (1 - p))\n",
    "start_matrix = np.concatenate([np.ones(n_ones), np.zeros(n_zeros)] * n).reshape(n, m).T"
   ]
  },
  {
   "cell_type": "code",
   "execution_count": 4,
   "id": "297ff922",
   "metadata": {},
   "outputs": [],
   "source": [
    "def true_var(p, R, n, m):\n",
    "    var = n * p * (1 - p) * (1 + (n - 1) * R)\n",
    "    return var"
   ]
  },
  {
   "cell_type": "code",
   "execution_count": 5,
   "id": "28c36915",
   "metadata": {},
   "outputs": [],
   "source": [
    "def RMSE(matrix):\n",
    "    corr_mat = np.corrcoef(matrix, rowvar=False)\n",
    "    return np.sqrt(np.mean((corr_mat - required_matrix) ** 2))\n",
    "\n",
    "\n",
    "def MAE(matrix):\n",
    "    corr_mat = np.corrcoef(matrix, rowvar=False)\n",
    "    return np.mean(np.abs((corr_mat - required_matrix)))\n",
    "\n",
    "\n",
    "def L1(matrix):\n",
    "    corr_mat = np.corrcoef(matrix, rowvar=False)\n",
    "    return np.linalg.norm(corr_mat - required_matrix)"
   ]
  },
  {
   "cell_type": "code",
   "execution_count": 6,
   "id": "f0909f96",
   "metadata": {},
   "outputs": [],
   "source": [
    "loss_func = RMSE\n",
    "\n",
    "def group_swap(arr, loss):\n",
    "# алгоритм по замене двух рандомных элементов местами\n",
    "    arr1 = arr.copy()\n",
    "    r_col = np.random.randint(n)\n",
    "    r_row_1 = np.random.randint(m)\n",
    "    r_row_2 = np.random.randint(m)\n",
    "    arr1[r_row_1][r_col], arr1[r_row_2][r_col] = arr1[r_row_2][r_col], arr1[r_row_1][r_col]\n",
    "    new_loss =  loss_func(arr1)\n",
    "    if new_loss < loss:\n",
    "        return arr1, new_loss\n",
    "    else: \n",
    "        return arr, loss"
   ]
  },
  {
   "cell_type": "code",
   "execution_count": 7,
   "id": "0dff277c",
   "metadata": {},
   "outputs": [
    {
     "data": {
      "application/vnd.jupyter.widget-view+json": {
       "model_id": "ab03f2636daa4a7a8e6c88dc425d458f",
       "version_major": 2,
       "version_minor": 0
      },
      "text/plain": [
       "  0%|          | 0/100000 [00:00<?, ?it/s]"
      ]
     },
     "metadata": {},
     "output_type": "display_data"
    },
    {
     "name": "stdout",
     "output_type": "stream",
     "text": [
      "var: 0.13, mean: 4.0\n"
     ]
    }
   ],
   "source": [
    "t_var = round(true_var(p, R, n, m), 2)\n",
    "new_loss = loss_func(start_matrix)\n",
    "new_mat = start_matrix\n",
    "\n",
    "with tqdm(range(N_ITERATIONS)) as t:\n",
    "    for i in t:\n",
    "        t.set_description(f'theoretical var: {t_var}')  \n",
    "        new_var = np.var(new_mat.sum(axis=1))\n",
    "        t.set_postfix(loss=new_loss, var=new_var)   \n",
    "        new_mat, new_loss = group_swap(new_mat, new_loss)\n",
    "        \n",
    "new_mean = np.mean(new_mat.sum(axis=1))\n",
    "print(f'var: {new_var}, mean: {new_mean}')"
   ]
  },
  {
   "cell_type": "code",
   "execution_count": 9,
   "id": "96db841c",
   "metadata": {},
   "outputs": [
    {
     "data": {
      "text/plain": [
       "<AxesSubplot:>"
      ]
     },
     "execution_count": 9,
     "metadata": {},
     "output_type": "execute_result"
    },
    {
     "data": {
      "image/png": "[encoded data removed]",
      "text/plain": [
       "<Figure size 432x288 with 1 Axes>"
      ]
     },
     "metadata": {
      "needs_background": "light"
     },
     "output_type": "display_data"
    }
   ],
   "source": [
    "sns.distplot(new_mat.sum(axis=1), kde=False)"
   ]
  },
  {
   "cell_type": "code",
   "execution_count": null,
   "id": "b1cd3c91",
   "metadata": {},
   "outputs": [],
   "source": []
  }
 ],
 "metadata": {
  "kernelspec": {
   "display_name": "Python 3",
   "language": "python",
   "name": "python3"
  },
  "language_info": {
   "codemirror_mode": {
    "name": "ipython",
    "version": 3
   },
   "file_extension": ".py",
   "mimetype": "text/x-python",
   "name": "python",
   "nbconvert_exporter": "python",
   "pygments_lexer": "ipython3",
   "version": "3.8.10"
  }
 },
 "nbformat": 4,
 "nbformat_minor": 5
}
