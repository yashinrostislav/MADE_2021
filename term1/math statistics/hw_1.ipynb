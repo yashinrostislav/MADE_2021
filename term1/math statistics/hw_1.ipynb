{
 "cells": [
  {
   "cell_type": "code",
   "execution_count": 1,
   "id": "1016dd00",
   "metadata": {},
   "outputs": [],
   "source": [
    "import numpy as np\n",
    "from tqdm.notebook import tqdm\n",
    "import seaborn as sns"
   ]
  },
  {
   "cell_type": "markdown",
   "id": "0c8f56fb",
   "metadata": {},
   "source": [
    "Попробовал оптимизировать несколько метрик, на мой взгляд лучше всего работает L1 норма с небольшим штрафом за значения в матрице корреляций противоположного знака с R \n",
    "\n",
    "Если сделать большой штраф за отрицательные значения, то матрица в какой-то момент пререстанет подбираться и значение дисперсии будет делако от теоретического"
   ]
  },
  {
   "cell_type": "code",
   "execution_count": 2,
   "id": "0935f231",
   "metadata": {},
   "outputs": [],
   "source": [
    "m = 200\n",
    "n = 100\n",
    "p = 0.04\n",
    "R = 0.01\n",
    "\n",
    "N_ITERATIONS = 1 * 10 ** 5"
   ]
  },
  {
   "cell_type": "code",
   "execution_count": 3,
   "id": "45376c88",
   "metadata": {},
   "outputs": [],
   "source": [
    "# матрица корреляций, которую хотим получить\n",
    "required_matrix = np.ones([n, n]) * R - np.diag([R - 1] * n)\n",
    "\n",
    "# начальная матрица до переставления элементов\n",
    "n_ones = round(p * m)\n",
    "n_zeros = round(m * (1 - p))\n",
    "start_matrix = np.concatenate([np.ones(n_ones), np.zeros(n_zeros)] * n).reshape(n, m).T"
   ]
  },
  {
   "cell_type": "code",
   "execution_count": 4,
   "id": "343217bc",
   "metadata": {},
   "outputs": [],
   "source": [
    "def true_var(p, R, n, m):\n",
    "    var = n * p * (1 - p) * (1 + (n - 1) * R)\n",
    "    return var"
   ]
  },
  {
   "cell_type": "code",
   "execution_count": 5,
   "id": "5a6936a6",
   "metadata": {},
   "outputs": [],
   "source": [
    "def RMSE(matrix):\n",
    "    corr_mat = np.corrcoef(matrix, rowvar=False)\n",
    "    corr_mat = np.where(corr_mat * R < 0, corr_mat * 3, corr_mat)\n",
    "    return np.mean((corr_mat - required_matrix) ** 2)\n",
    "\n",
    "\n",
    "def MAE(matrix):\n",
    "    corr_mat = np.corrcoef(matrix, rowvar=False)\n",
    "    corr_mat = np.where(corr_mat * R < 0, corr_mat * 3, corr_mat)\n",
    "    return np.mean(np.abs((corr_mat - required_matrix)))\n",
    "\n",
    "\n",
    "def L1(matrix):\n",
    "    corr_mat = np.corrcoef(matrix, rowvar=False)\n",
    "    corr_mat = np.where(corr_mat * R < 0, corr_mat * 3, corr_mat)\n",
    "    return np.linalg.norm(corr_mat - required_matrix)"
   ]
  },
  {
   "cell_type": "code",
   "execution_count": 6,
   "id": "315a765e",
   "metadata": {
    "pycharm": {
     "name": "#%%\n"
    }
   },
   "outputs": [],
   "source": [
    "loss_func = L1\n",
    "\n",
    "\n",
    "def group_swap(arr, loss):\n",
    "# алгоритм по замене двух рандомных элементов местами\n",
    "    arr1 = arr.copy()\n",
    "    r_col = np.random.randint(n)\n",
    "    r_row_1 = np.random.randint(m)\n",
    "    r_row_2 = np.random.randint(m)\n",
    "    arr1[r_row_1][r_col], arr1[r_row_2][r_col] = arr1[r_row_2][r_col], arr1[r_row_1][r_col]\n",
    "    new_loss =  loss_func(arr1)\n",
    "    if new_loss < loss:\n",
    "        return arr1, new_loss\n",
    "    else: \n",
    "        return arr, loss"
   ]
  },
  {
   "cell_type": "code",
   "execution_count": 10,
   "id": "f950ea84",
   "metadata": {},
   "outputs": [
    {
     "data": {
      "text/plain": [
       "<AxesSubplot:ylabel='Density'>"
      ]
     },
     "execution_count": 10,
     "metadata": {},
     "output_type": "execute_result"
    },
    {
     "data": {
      "image/png": "[encoded data removed]",
      "text/plain": [
       "<Figure size 432x288 with 1 Axes>"
      ]
     },
     "metadata": {
      "needs_background": "light"
     },
     "output_type": "display_data"
    }
   ],
   "source": [
    "t_var = round(true_var(p, R, n, m), 2)\n",
    "new_loss = loss_func(start_matrix)\n",
    "new_mat = start_matrix\n",
    "\n",
    "with tqdm(range(N_ITERATIONS)) as t:\n",
    "    for i in t:\n",
    "        t.set_description(f'theoretical var: {t_var}')  \n",
    "        new_var = np.var(new_mat.sum(axis=1))\n",
    "        t.set_postfix(loss=new_loss, var=new_var)   \n",
    "        new_mat, new_loss = group_swap(new_mat, new_loss)\n",
    "#         if new_var < t_var:\n",
    "#             break\n",
    "new_mean = np.mean(new_mat.sum(axis=1))\n",
    "print(f'var: {new_var}, mean: {new_mean}')"
   ]
  },
  {
   "cell_type": "code",
   "execution_count": null,
   "id": "30ce0f05",
   "metadata": {},
   "outputs": [],
   "source": []
  }
 ],
 "metadata": {
  "kernelspec": {
   "display_name": "Python 3",
   "language": "python",
   "name": "python3"
  },
  "language_info": {
   "codemirror_mode": {
    "name": "ipython",
    "version": 3
   },
   "file_extension": ".py",
   "mimetype": "text/x-python",
   "name": "python",
   "nbconvert_exporter": "python",
   "pygments_lexer": "ipython3",
   "version": "3.8.10"
  }
 },
 "nbformat": 4,
 "nbformat_minor": 5
}