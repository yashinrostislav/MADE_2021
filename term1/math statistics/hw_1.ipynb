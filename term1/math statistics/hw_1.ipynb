{
 "cells": [
  {
   "cell_type": "code",
   "execution_count": 1,
   "id": "5e3a5df0",
   "metadata": {},
   "outputs": [],
   "source": [
    "import numpy as np\n",
    "from tqdm.notebook import tqdm\n",
    "from random import choices\n",
    "import seaborn as sns\n",
    "from sklearn.metrics import mean_squared_log_error"
   ]
  },
  {
   "cell_type": "markdown",
   "id": "82ec7efd",
   "metadata": {},
   "source": [
    "Попробовал оптимизировать несколько метрик, на мой взгляд лучше всего работает L1 норма с небольшим штрафом за отрицательные значения в матрице корреляций\n",
    "Если сделать большой штраф за отрицательные значения, то матрица в какой-то момент пререстанет подбираться и значение дисперсии будет делако от теоретического"
   ]
  },
  {
   "cell_type": "code",
   "execution_count": 68,
   "id": "8312dacb",
   "metadata": {},
   "outputs": [],
   "source": [
    "m = 200\n",
    "n = 100\n",
    "p = 0.04\n",
    "R = 0.01\n",
    "\n",
    "N_ITERATIONS = 1 * 10 ** 5"
   ]
  },
  {
   "cell_type": "code",
   "execution_count": 69,
   "id": "acace6dc",
   "metadata": {},
   "outputs": [],
   "source": [
    "# матрица корреляций, которую хотим получить\n",
    "required_matrix = np.ones([n, n]) * R - np.diag([R - 1] * n)\n",
    "\n",
    "# начальная матрица до переставления элементов\n",
    "n_ones = round(p * m)\n",
    "n_zeros = round(m * (1 - p))\n",
    "start_matrix = np.concatenate([np.ones(n_ones), np.zeros(n_zeros)] * n).reshape(n, m).T"
   ]
  },
  {
   "cell_type": "code",
   "execution_count": 70,
   "id": "84d24a2a",
   "metadata": {},
   "outputs": [],
   "source": [
    "def true_var(p, R, n, m):\n",
    "    var = n * p * (1 - p) * (1 + (n - 1) * R)\n",
    "    return var"
   ]
  },
  {
   "cell_type": "code",
   "execution_count": 71,
   "id": "48753116",
   "metadata": {},
   "outputs": [
    {
     "data": {
      "text/plain": [
       "array([[1., 1., 1., ..., 1., 1., 1.],\n",
       "       [1., 1., 1., ..., 1., 1., 1.],\n",
       "       [1., 1., 1., ..., 1., 1., 1.],\n",
       "       ...,\n",
       "       [0., 0., 0., ..., 0., 0., 0.],\n",
       "       [0., 0., 0., ..., 0., 0., 0.],\n",
       "       [0., 0., 0., ..., 0., 0., 0.]])"
      ]
     },
     "execution_count": 71,
     "metadata": {},
     "output_type": "execute_result"
    }
   ],
   "source": [
    "np.where(new_mat==0, 0, new_mat)"
   ]
  },
  {
   "cell_type": "code",
   "execution_count": 85,
   "id": "90d96717",
   "metadata": {},
   "outputs": [],
   "source": [
    "\n",
    "def RMSE(matrix):\n",
    "    corr_mat = np.corrcoef(matrix, rowvar=False)\n",
    "    corr_mat = np.where(corr_mat<0, corr_mat*3, corr_mat)\n",
    "    return np.mean((corr_mat - required_matrix) ** 2)\n",
    "\n",
    "\n",
    "def MAE(matrix):\n",
    "    corr_mat = np.corrcoef(matrix, rowvar=False)\n",
    "    corr_mat = np.where(corr_mat<0, corr_mat*3, corr_mat)\n",
    "    return np.mean(np.abs((corr_mat - required_matrix)))\n",
    "\n",
    "\n",
    "def L1(matrix):\n",
    "    corr_mat = np.corrcoef(matrix, rowvar=False)\n",
    "    corr_mat = np.where(corr_mat<0, corr_mat*3, corr_mat)\n",
    "    return np.linalg.norm(corr_mat - required_matrix)"
   ]
  },
  {
   "cell_type": "code",
   "execution_count": 86,
   "id": "cc1d69f1",
   "metadata": {},
   "outputs": [],
   "source": [
    "loss_func = L1\n",
    "\n",
    "\n",
    "def group_swap(arr, loss):\n",
    "# алгоритм по замене двух рандомных элементов местами\n",
    "    arr1 = arr.copy()\n",
    "    r_col = np.random.randint(n)\n",
    "    r_row_1 = np.random.randint(m)\n",
    "    r_row_2 = np.random.randint(m)\n",
    "    arr1[r_row_1][r_col], arr1[r_row_2][r_col] = arr1[r_row_2][r_col], arr1[r_row_1][r_col]\n",
    "    new_loss =  loss_func(arr1)\n",
    "    if new_loss < loss:\n",
    "        return arr1, new_loss\n",
    "    else: \n",
    "        return arr, loss"
   ]
  },
  {
   "cell_type": "code",
   "execution_count": 87,
   "id": "341fbc63",
   "metadata": {},
   "outputs": [
    {
     "data": {
      "application/vnd.jupyter.widget-view+json": {
       "model_id": "7273c5d8f3c24d498ec9b835614fb877",
       "version_major": 2,
       "version_minor": 0
      },
      "text/plain": [
       "  0%|          | 0/100000 [00:00<?, ?it/s]"
      ]
     },
     "metadata": {},
     "output_type": "display_data"
    },
    {
     "name": "stdout",
     "output_type": "stream",
     "text": [
      "var: 12.0, mean: 4.0\n"
     ]
    }
   ],
   "source": [
    "t_var = round(true_var(p, R, n, m), 2)\n",
    "new_loss = loss_func(start_matrix)\n",
    "new_mat = start_matrix\n",
    "\n",
    "with tqdm(range(N_ITERATIONS)) as t:\n",
    "    for i in t:\n",
    "        t.set_description(f'theoretical var: {t_var}')  \n",
    "        new_var = np.var(new_mat.sum(axis=1))\n",
    "        t.set_postfix(loss=new_loss, var=new_var)   \n",
    "        new_mat, new_loss = group_swap(new_mat, new_loss)\n",
    "#         if new_var < t_var:\n",
    "#             break\n",
    "new_mean = np.mean(new_mat.sum(axis=1))\n",
    "print(f'var: {new_var}, mean: {new_mean}')"
   ]
  },
  {
   "cell_type": "code",
   "execution_count": 88,
   "id": "3be97fb1",
   "metadata": {},
   "outputs": [
    {
     "data": {
      "text/plain": [
       "<AxesSubplot:>"
      ]
     },
     "execution_count": 88,
     "metadata": {},
     "output_type": "execute_result"
    },
    {
     "data": {
      "image/png": "[encoded data removed]",
      "text/plain": [
       "<Figure size 432x288 with 1 Axes>"
      ]
     },
     "metadata": {
      "needs_background": "light"
     },
     "output_type": "display_data"
    }
   ],
   "source": [
    "sns.distplot(new_mat.sum(axis=1), kde=False)"
   ]
  },
  {
   "cell_type": "code",
   "execution_count": 43,
   "id": "9fb76de9",
   "metadata": {
    "scrolled": true
   },
   "outputs": [
    {
     "data": {
      "text/plain": [
       "array([[0., 0., 0., ..., 0., 0., 0.],\n",
       "       [0., 1., 1., ..., 0., 0., 1.],\n",
       "       [0., 0., 0., ..., 0., 1., 0.],\n",
       "       ...,\n",
       "       [0., 0., 0., ..., 0., 0., 0.],\n",
       "       [0., 0., 0., ..., 1., 0., 0.],\n",
       "       [0., 0., 0., ..., 0., 0., 0.]])"
      ]
     },
     "execution_count": 43,
     "metadata": {},
     "output_type": "execute_result"
    }
   ],
   "source": [
    "new_mat"
   ]
  },
  {
   "cell_type": "code",
   "execution_count": 44,
   "id": "07a50b2b",
   "metadata": {},
   "outputs": [],
   "source": [
    "    corr_mat = np.corrcoef(new_mat, rowvar=False)"
   ]
  },
  {
   "cell_type": "code",
   "execution_count": 46,
   "id": "4aadef5e",
   "metadata": {},
   "outputs": [
    {
     "data": {
      "text/plain": [
       "array([ 1.        , -0.04166667,  0.08854167, -0.04166667, -0.04166667,\n",
       "       -0.04166667, -0.04166667, -0.04166667,  0.08854167, -0.04166667,\n",
       "       -0.04166667, -0.04166667,  0.08854167, -0.04166667,  0.08854167,\n",
       "        0.08854167,  0.08854167, -0.04166667, -0.04166667, -0.04166667,\n",
       "        0.08854167, -0.04166667, -0.04166667,  0.08854167,  0.08854167,\n",
       "        0.08854167,  0.08854167, -0.04166667,  0.08854167,  0.08854167,\n",
       "       -0.04166667,  0.08854167, -0.04166667, -0.04166667,  0.08854167,\n",
       "       -0.04166667, -0.04166667,  0.08854167,  0.08854167,  0.08854167,\n",
       "       -0.04166667, -0.04166667, -0.04166667,  0.08854167, -0.04166667,\n",
       "       -0.04166667,  0.08854167,  0.08854167, -0.04166667,  0.08854167,\n",
       "       -0.04166667, -0.04166667, -0.04166667,  0.08854167, -0.04166667,\n",
       "       -0.04166667,  0.08854167,  0.08854167,  0.08854167,  0.08854167,\n",
       "       -0.04166667, -0.04166667,  0.08854167,  0.08854167, -0.04166667,\n",
       "        0.08854167, -0.04166667, -0.04166667, -0.04166667,  0.08854167,\n",
       "        0.08854167,  0.08854167,  0.08854167, -0.04166667, -0.04166667,\n",
       "       -0.04166667,  0.08854167, -0.04166667,  0.08854167, -0.04166667,\n",
       "        0.08854167, -0.04166667, -0.04166667,  0.08854167, -0.04166667,\n",
       "        0.08854167, -0.04166667, -0.04166667,  0.08854167,  0.08854167,\n",
       "       -0.04166667,  0.08854167,  0.08854167,  0.08854167, -0.04166667,\n",
       "        0.08854167,  0.08854167, -0.04166667, -0.04166667, -0.04166667])"
      ]
     },
     "execution_count": 46,
     "metadata": {},
     "output_type": "execute_result"
    }
   ],
   "source": [
    "corr_mat[0]"
   ]
  },
  {
   "cell_type": "code",
   "execution_count": 63,
   "id": "ec3f64f0",
   "metadata": {},
   "outputs": [
    {
     "data": {
      "text/plain": [
       "array([2, 2, 5])"
      ]
     },
     "execution_count": 63,
     "metadata": {},
     "output_type": "execute_result"
    }
   ],
   "source": [
    "lst = np.array([1,1,5])\n",
    "np.where(lst<2,lst*2,lst)"
   ]
  },
  {
   "cell_type": "code",
   "execution_count": 89,
   "id": "769ac406",
   "metadata": {},
   "outputs": [],
   "source": [
    "corr_mat = np.corrcoef(new_mat, rowvar=False)"
   ]
  },
  {
   "cell_type": "code",
   "execution_count": 91,
   "id": "3720eb39",
   "metadata": {},
   "outputs": [
    {
     "data": {
      "text/plain": [
       "array([ 1.        , -0.04166667,  0.08854167,  0.08854167, -0.04166667,\n",
       "       -0.04166667,  0.08854167, -0.04166667, -0.04166667, -0.04166667,\n",
       "        0.08854167, -0.04166667,  0.08854167, -0.04166667,  0.08854167,\n",
       "        0.21875   , -0.04166667, -0.04166667,  0.08854167,  0.08854167,\n",
       "        0.08854167, -0.04166667,  0.08854167, -0.04166667, -0.04166667,\n",
       "       -0.04166667,  0.08854167,  0.08854167, -0.04166667, -0.04166667,\n",
       "        0.08854167,  0.08854167, -0.04166667, -0.04166667, -0.04166667,\n",
       "        0.08854167, -0.04166667,  0.08854167,  0.08854167,  0.08854167,\n",
       "       -0.04166667, -0.04166667, -0.04166667,  0.08854167, -0.04166667,\n",
       "        0.08854167, -0.04166667,  0.08854167,  0.08854167, -0.04166667,\n",
       "        0.08854167,  0.08854167, -0.04166667, -0.04166667, -0.04166667,\n",
       "        0.08854167,  0.21875   , -0.04166667, -0.04166667,  0.08854167,\n",
       "       -0.04166667, -0.04166667, -0.04166667, -0.04166667,  0.08854167,\n",
       "       -0.04166667, -0.04166667, -0.04166667,  0.08854167,  0.21875   ,\n",
       "        0.08854167,  0.08854167,  0.08854167, -0.04166667,  0.08854167,\n",
       "        0.08854167, -0.04166667,  0.08854167, -0.04166667, -0.04166667,\n",
       "       -0.04166667,  0.08854167,  0.08854167, -0.04166667,  0.08854167,\n",
       "       -0.04166667, -0.04166667, -0.04166667, -0.04166667, -0.04166667,\n",
       "        0.08854167,  0.08854167,  0.08854167,  0.08854167, -0.04166667,\n",
       "        0.08854167,  0.21875   , -0.04166667, -0.04166667,  0.08854167])"
      ]
     },
     "execution_count": 91,
     "metadata": {},
     "output_type": "execute_result"
    }
   ],
   "source": [
    "corr_mat[0]"
   ]
  },
  {
   "cell_type": "code",
   "execution_count": null,
   "id": "e7931a27",
   "metadata": {},
   "outputs": [],
   "source": []
  }
 ],
 "metadata": {
  "kernelspec": {
   "display_name": "Python 3",
   "language": "python",
   "name": "python3"
  },
  "language_info": {
   "codemirror_mode": {
    "name": "ipython",
    "version": 3
   },
   "file_extension": ".py",
   "mimetype": "text/x-python",
   "name": "python",
   "nbconvert_exporter": "python",
   "pygments_lexer": "ipython3",
   "version": "3.8.10"
  }
 },
 "nbformat": 4,
 "nbformat_minor": 5
}
