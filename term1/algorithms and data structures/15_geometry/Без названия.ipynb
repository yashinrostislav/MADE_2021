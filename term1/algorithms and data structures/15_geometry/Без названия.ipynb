{
 "cells": [
  {
   "cell_type": "code",
   "execution_count": 26,
   "id": "9214abb7",
   "metadata": {},
   "outputs": [],
   "source": [
    "class Point:\n",
    "\n",
    "    def __init__(self, coordinate_1, coordinate_2):\n",
    "        self.coordinate_1 = coordinate_1\n",
    "        self.coordinate_2 = coordinate_2\n",
    "\n",
    "\n",
    "class Vector:\n",
    "\n",
    "    def __init__(self, point_1, point_2):\n",
    "        self.vect_c_1 = point_2.coordinate_1 - point_1.coordinate_1\n",
    "        self.vect_c_2 = point_2.coordinate_2 - point_1.coordinate_2\n",
    "\n",
    "\n",
    "    def vector_multiplication(self, other):\n",
    "        return self.vect_c_1 * other.vect_c_2 - self.vect_c_2 * other.vect_c_1\n",
    "\n",
    "\n",
    "    def scalar_multiplication(self, other):\n",
    "        return self.vect_c_1 * other.vect_c_1 + self.vect_c_2 * other.vect_c_2"
   ]
  },
  {
   "cell_type": "code",
   "execution_count": 27,
   "id": "84ee9f5f",
   "metadata": {},
   "outputs": [],
   "source": [
    "p1 = Point(0, 0)\n",
    "p2 = Point(1, 0)\n",
    "p3 = Point(0, 1)"
   ]
  },
  {
   "cell_type": "code",
   "execution_count": 28,
   "id": "653f60cc",
   "metadata": {},
   "outputs": [],
   "source": [
    "v1 = Vector(p1, p2)\n",
    "v2 = Vector(p1, p3)"
   ]
  },
  {
   "cell_type": "code",
   "execution_count": 29,
   "id": "f2ac1927",
   "metadata": {},
   "outputs": [
    {
     "data": {
      "text/plain": [
       "0"
      ]
     },
     "execution_count": 29,
     "metadata": {},
     "output_type": "execute_result"
    }
   ],
   "source": [
    "v1.scalar_multiplication(v2)"
   ]
  },
  {
   "cell_type": "code",
   "execution_count": null,
   "id": "ed2354f3",
   "metadata": {},
   "outputs": [],
   "source": []
  }
 ],
 "metadata": {
  "kernelspec": {
   "display_name": "Python 3",
   "language": "python",
   "name": "python3"
  },
  "language_info": {
   "codemirror_mode": {
    "name": "ipython",
    "version": 3
   },
   "file_extension": ".py",
   "mimetype": "text/x-python",
   "name": "python",
   "nbconvert_exporter": "python",
   "pygments_lexer": "ipython3",
   "version": "3.8.10"
  }
 },
 "nbformat": 4,
 "nbformat_minor": 5
}
