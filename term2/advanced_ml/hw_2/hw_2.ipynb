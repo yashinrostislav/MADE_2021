{
 "cells": [
  {
   "cell_type": "code",
   "execution_count": 1,
   "metadata": {},
   "outputs": [],
   "source": [
    "import pandas as pd\n",
    "import numpy as np\n",
    "from datetime import datetime, timezone\n",
    "from sklearn.linear_model import LogisticRegression, LinearRegression\n",
    "from tqdm.notebook import tqdm, trange\n",
    "import six\n",
    "import matplotlib.pyplot as plt\n",
    "import scipy.sparse\n",
    "import urllib3\n",
    "from requests.adapters import HTTPAdapter\n",
    "from urllib3.util.retry import Retry\n",
    "from requests_html import HTMLSession\n",
    "import swifter\n",
    "import itertools\n",
    "from scipy import stats\n",
    "\n",
    "import warnings\n",
    "warnings.filterwarnings('ignore')"
   ]
  },
  {
   "cell_type": "markdown",
   "metadata": {},
   "source": [
    "# 1 часть. Работа с данными\n",
    "\n",
    "Прочитайте и проанализируйте данные, выберите турниры, в которых есть данные о составах команд и повопросных результатах (поле mask в results.pkl). \n",
    "\n",
    "Для унификации предлагаю:\n",
    "- взять в тренировочный набор турниры с dateStart из 2019 года; \n",
    "- в тестовый — турниры с dateStart из 2020 года.\n"
   ]
  },
  {
   "cell_type": "code",
   "execution_count": 2,
   "metadata": {},
   "outputs": [],
   "source": [
    "dict_results = pd.read_pickle('data/results.pkl')"
   ]
  },
  {
   "cell_type": "code",
   "execution_count": 3,
   "metadata": {},
   "outputs": [],
   "source": [
    "dict_players = pd.read_pickle('data/players.pkl')"
   ]
  },
  {
   "cell_type": "code",
   "execution_count": 4,
   "metadata": {},
   "outputs": [],
   "source": [
    "dict_tournaments = pd.read_pickle('data/tournaments.pkl')"
   ]
  },
  {
   "cell_type": "code",
   "execution_count": 5,
   "metadata": {},
   "outputs": [],
   "source": [
    "TOURNAMENT_ID_KEY = TEAM_ID_KEY = \"id\"\n",
    "TOURNAMENT_NAME_KEY = TEAM_ID_KEY = \"name\"\n",
    "TOURNAMENT_TEAMS_KEY = \"teams\"\n",
    "TEAM_ANSWERS_KEY = \"answers\"\n",
    "TEAM_PLAYERS_KEY = \"players\"\n",
    "\n",
    "def make_team_dict(team_id, answers, players):\n",
    "    res = {\n",
    "        TEAM_ID_KEY: team_id,\n",
    "        TEAM_ANSWERS_KEY : answers,\n",
    "        TEAM_PLAYERS_KEY: players,\n",
    "    }\n",
    "    return res\n",
    "\n",
    "\n",
    "def make_tournament_dict(tournament_id, tournament_name, teams):\n",
    "    res = {\n",
    "        TOURNAMENT_ID_KEY: tournament_id,\n",
    "        TOURNAMENT_NAME_KEY: tournament_name,\n",
    "        TOURNAMENT_TEAMS_KEY: teams,\n",
    "    }\n",
    "    return res"
   ]
  },
  {
   "cell_type": "code",
   "execution_count": 6,
   "metadata": {},
   "outputs": [],
   "source": [
    "POSSIBLE_ANSWERS = {\"0\", \"1\"}\n",
    "\n",
    "def process_answers(answers_string):\n",
    "    if not isinstance(answers_string, six.string_types) or set(answers_string) - POSSIBLE_ANSWERS:\n",
    "        return []\n",
    "    return [int(a) for a in answers_string]\n",
    "    \n",
    "\n",
    "def is_valid_team(team_dict):\n",
    "    players = team_dict[TEAM_PLAYERS_KEY]\n",
    "    if not players:\n",
    "        return False\n",
    "    \n",
    "    answers = team_dict[TEAM_ANSWERS_KEY]\n",
    "    if not answers:\n",
    "        return False\n",
    "    \n",
    "    return True\n",
    "\n",
    "\n",
    "def is_valid_tournament(tournament_dict):\n",
    "    teams = tournament_dict[TOURNAMENT_TEAMS_KEY]\n",
    "    if not teams:\n",
    "        return False\n",
    "    \n",
    "    num_answers = None\n",
    "    for team in teams:\n",
    "        answers = team[TEAM_ANSWERS_KEY]\n",
    "        num_answers = num_answers or len(answers)\n",
    "        if num_answers != len(answers):\n",
    "            return False\n",
    "    \n",
    "    return True"
   ]
  },
  {
   "cell_type": "code",
   "execution_count": 7,
   "metadata": {},
   "outputs": [],
   "source": [
    "def tournaments_train_test_split(tournaments, results):\n",
    "    \n",
    "    TRAIN_YEAR = 2019\n",
    "    TEST_YEAR = 2020\n",
    "\n",
    "    TOURNAMENT_DATE_KEY = \"dateStart\" \n",
    "    TOURNAMENT_ID_KEY = TEAM_ID_KEY = PLAYER_ID_KEY = \"id\"\n",
    "    RESULT_ANSWERS_KEY = \"mask\"\n",
    "    TEAM_MEMBERS_KEY = \"teamMembers\"\n",
    "    TEAM_KEY = \"team\"\n",
    "    PLAYER_KEY = \"player\"\n",
    "    \n",
    "    train, test = [], []\n",
    "\n",
    "    for tournament_info in tqdm(tournaments.values()):\n",
    "    \n",
    "        tournament_year = datetime.fromisoformat(tournament_info[TOURNAMENT_DATE_KEY]).year\n",
    "        if tournament_year not in (TRAIN_YEAR, TEST_YEAR):\n",
    "            continue\n",
    "    \n",
    "        tournament_id = tournament_info[TOURNAMENT_ID_KEY]\n",
    "        tournament_name = tournament_info[TOURNAMENT_NAME_KEY]\n",
    "        \n",
    "        tournament_result = results[tournament_id]\n",
    "        if not tournament_result:\n",
    "            continue\n",
    "    \n",
    "        teams = []\n",
    "        for team in tournament_result:\n",
    "            team_id = team[TEAM_KEY][TEAM_ID_KEY]\n",
    "        \n",
    "            answers = process_answers(team.get(RESULT_ANSWERS_KEY))\n",
    "        \n",
    "            players = []\n",
    "            for member in team[TEAM_MEMBERS_KEY]:\n",
    "                player_id = member[PLAYER_KEY][PLAYER_ID_KEY]\n",
    "                players.append(player_id)\n",
    "        \n",
    "            team_dict = make_team_dict(team_id, answers, players)\n",
    "            if not is_valid_team(team_dict):\n",
    "                continue\n",
    "            teams.append(team_dict)\n",
    "        \n",
    "        tournament_dict = make_tournament_dict(tournament_id, tournament_name, teams)\n",
    "        if not is_valid_tournament(tournament_dict):\n",
    "            continue\n",
    "    \n",
    "        if tournament_year == TRAIN_YEAR:\n",
    "            train.append(tournament_dict)\n",
    "        else:\n",
    "            test.append(tournament_dict)\n",
    "            \n",
    "    return train, test"
   ]
  },
  {
   "cell_type": "code",
   "execution_count": 8,
   "metadata": {},
   "outputs": [
    {
     "data": {
      "application/vnd.jupyter.widget-view+json": {
       "model_id": "76010fcb09f84d4e98fb5a38e2535721",
       "version_major": 2,
       "version_minor": 0
      },
      "text/plain": [
       "  0%|          | 0/5528 [00:00<?, ?it/s]"
      ]
     },
     "metadata": {},
     "output_type": "display_data"
    }
   ],
   "source": [
    "train, test = tournaments_train_test_split(dict_tournaments, dict_results)"
   ]
  },
  {
   "cell_type": "code",
   "execution_count": 9,
   "metadata": {},
   "outputs": [
    {
     "data": {
      "text/plain": [
       "(604, 156)"
      ]
     },
     "execution_count": 9,
     "metadata": {},
     "output_type": "execute_result"
    }
   ],
   "source": [
    "len(train), len(test)"
   ]
  },
  {
   "cell_type": "code",
   "execution_count": 10,
   "metadata": {},
   "outputs": [
    {
     "data": {
      "application/vnd.jupyter.widget-view+json": {
       "model_id": "27879210c8d34b2cbb25f22466ec7d81",
       "version_major": 2,
       "version_minor": 0
      },
      "text/plain": [
       "  0%|          | 0/604 [00:00<?, ?it/s]"
      ]
     },
     "metadata": {},
     "output_type": "display_data"
    }
   ],
   "source": [
    "unique_players = set()\n",
    "\n",
    "for tournament in tqdm(train): \n",
    "    teams = tournament[TOURNAMENT_TEAMS_KEY]\n",
    "    for team in teams:\n",
    "        players = team[TEAM_PLAYERS_KEY]\n",
    "        unique_players.update(players)\n",
    "        \n",
    "player_idx_map = {player: idx for idx, player in enumerate(unique_players)}"
   ]
  },
  {
   "cell_type": "code",
   "execution_count": 11,
   "metadata": {},
   "outputs": [
    {
     "data": {
      "text/plain": [
       "[18490, 116901, 8532, 42346, 123190, 22482]"
      ]
     },
     "execution_count": 11,
     "metadata": {},
     "output_type": "execute_result"
    }
   ],
   "source": [
    "[18490, 116901, 8532, 42346, 123190, 22482]"
   ]
  },
  {
   "cell_type": "code",
   "execution_count": 12,
   "metadata": {},
   "outputs": [
    {
     "data": {
      "application/vnd.jupyter.widget-view+json": {
       "model_id": "012418ba83ca472ebb8bb78b8fb4c438",
       "version_major": 2,
       "version_minor": 0
      },
      "text/plain": [
       "  0%|          | 0/604 [00:00<?, ?it/s]"
      ]
     },
     "metadata": {},
     "output_type": "display_data"
    }
   ],
   "source": [
    "num_players = len(player_idx_map)\n",
    "\n",
    "player_num_answers = np.zeros(num_players)\n",
    "player_num_correct_answers = np.zeros(num_players)\n",
    "player_num_tournaments = np.zeros(num_players)\n",
    "player_teams = [set() for _ in range(num_players)]\n",
    "\n",
    "num_questions = 0\n",
    "unique_teams = set()\n",
    "for tournament in tqdm(train): \n",
    "    teams = tournament[TOURNAMENT_TEAMS_KEY]\n",
    "    \n",
    "    first_team = True\n",
    "    for team in teams:\n",
    "        team_id = team[TEAM_ID_KEY]\n",
    "        unique_teams.add(team_id)\n",
    "        \n",
    "        answers = team[TEAM_ANSWERS_KEY]\n",
    "        num_answers = len(answers)\n",
    "        num_correct_answers = sum(answers)\n",
    "        if first_team:\n",
    "            num_questions += num_answers\n",
    "        \n",
    "        players = team[TEAM_PLAYERS_KEY]\n",
    "        for player in players:\n",
    "            player_idx = player_idx_map[player]\n",
    "            player_num_answers[player_idx] += num_answers\n",
    "            player_num_correct_answers[player_idx] += num_correct_answers\n",
    "            player_num_tournaments[player_idx] += 1\n",
    "            player_teams[player_idx].add(team_id)\n",
    "        \n",
    "        first_team = False\n",
    "        \n",
    "player_num_teams = np.array([len(pt) for pt in player_teams])\n",
    "player_correct_ratio = player_num_correct_answers / player_num_answers"
   ]
  },
  {
   "cell_type": "code",
   "execution_count": 13,
   "metadata": {},
   "outputs": [
    {
     "name": "stdout",
     "output_type": "stream",
     "text": [
      "Уникальных игроков в турнирах для обучения: 55151\n",
      "Команд в турнирах для обучения: 10996\n",
      "Было задано вопросов в турнирах для обучения: 28264\n",
      "В среднем вопросов на турнир: 46\n"
     ]
    }
   ],
   "source": [
    "print(f\"Уникальных игроков в турнирах для обучения: {num_players}\")\n",
    "print(f\"Команд в турнирах для обучения: {len(unique_teams)}\")\n",
    "print(f\"Было задано вопросов в турнирах для обучения: {num_questions}\")\n",
    "print(f\"В среднем вопросов на турнир: {int(num_questions / len(train))}\")"
   ]
  },
  {
   "cell_type": "markdown",
   "metadata": {},
   "source": [
    "# 2 часть. Baseline-модель\n",
    "\n",
    "Постройте baseline-модель на основе линейной или логистической регрессии, которая будет обучать рейтинг-лист игроков. Замечания и подсказки:\n",
    "- повопросные результаты — это фактически результаты броска монетки, и их предсказание скорее всего имеет отношение к бинарной классификации;\n",
    "- в разных турнирах вопросы совсем разного уровня сложности, поэтому модель должна это учитывать; скорее всего, модель должна будет явно обучать не только силу каждого игрока, но и сложность каждого вопроса;\n",
    "- для baseline-модели можно забыть о командах и считать, что повопросные результаты команды просто относятся к каждому из её игроков.\n"
   ]
  },
  {
   "cell_type": "markdown",
   "metadata": {},
   "source": [
    "## Описание решения\n",
    "\n",
    "Будем обучать логистическую регрессию: \n",
    "- в столбцах будут one-hot представление вопросов и one-hot представление игроков\n",
    "- таргет - правильность ответа на вопрос (1 или 0)\n",
    "- таблица будет очень большая, поэтому положим ее в scipy.sparse.coo_matrix\n",
    "\n",
    "Таким образом получим коэффициенты при каждом игроке и сможем получить рейтинг, отранжировав их (у самого лучшего игрока самый большой коэффициент в логрегрессии)\n",
    "\n",
    "Будем сравнивать с рейтингом на \"2020-01-01\", потому что в обучались на данных 2019 года и к 2022 реальные рейтинги могли поменяться"
   ]
  },
  {
   "cell_type": "code",
   "execution_count": 14,
   "metadata": {},
   "outputs": [
    {
     "data": {
      "application/vnd.jupyter.widget-view+json": {
       "model_id": "5d4919d459f54a07aed952219c488787",
       "version_major": 2,
       "version_minor": 0
      },
      "text/plain": [
       "  0%|          | 0/604 [00:00<?, ?it/s]"
      ]
     },
     "metadata": {},
     "output_type": "display_data"
    }
   ],
   "source": [
    "CORRECT_LABEL = 1\n",
    "INCORRECT_LABEL = 0\n",
    "\n",
    "question_player_correct = [[] for _ in range(num_questions)]\n",
    "question_player_incorrect = [[] for _ in range(num_questions)]\n",
    "question_player_correct_team = [[] for _ in range(num_questions)]\n",
    "question_player_incorrect_team = [[] for _ in range(num_questions)]\n",
    "\n",
    "question_tournament = [None] * num_questions\n",
    "\n",
    "max_question_id = -1\n",
    "for tournament in tqdm(train): \n",
    "    tournament_name = tournament[TOURNAMENT_NAME_KEY]\n",
    "    teams = tournament[TOURNAMENT_TEAMS_KEY]\n",
    "    for team in teams:\n",
    "        team_id = team[TEAM_ID_KEY]\n",
    "        answers = team[TEAM_ANSWERS_KEY]\n",
    "        players = team[TEAM_PLAYERS_KEY]\n",
    "        for question_id, answer in enumerate(answers, 1):\n",
    "            question_id += max_question_id\n",
    "            \n",
    "            question_tournament[question_id] = tournament_name\n",
    "            \n",
    "            for player in players:\n",
    "                player_idx = player_idx_map[player]\n",
    "                if answer == CORRECT_LABEL:\n",
    "                    question_player_correct[question_id].append(player_idx)\n",
    "                    question_player_correct_team[question_id].append(team_id)\n",
    "                else:\n",
    "                    question_player_incorrect[question_id].append(player_idx)\n",
    "                    question_player_incorrect_team[question_id].append(team_id)\n",
    "    \n",
    "    max_question_id = question_id"
   ]
  },
  {
   "cell_type": "code",
   "execution_count": 15,
   "metadata": {},
   "outputs": [],
   "source": [
    "def construct_sparse_matrix(question_player, dtype=None):\n",
    "    row = []\n",
    "    col = []\n",
    "    data = []\n",
    "    \n",
    "    max_row_idx = -1\n",
    "    max_player_idx = -1\n",
    "    for question_idx, player_idx_collection in enumerate(question_player):\n",
    "        for row_idx, player_idx in enumerate(player_idx_collection, 1):\n",
    "            if player_idx > max_player_idx:\n",
    "                max_player_idx = player_idx\n",
    "            row_idx += max_row_idx\n",
    "            \n",
    "            row.append(row_idx)\n",
    "            col.append(question_idx)\n",
    "            data.append(1)\n",
    "            \n",
    "            row.append(row_idx)\n",
    "            col.append(len(question_player) + player_idx)\n",
    "            data.append(1)\n",
    "            \n",
    "        max_row_idx = row_idx\n",
    "    num_rows = max_row_idx + 1\n",
    "    num_cols = max_player_idx + 1 + len(question_player)\n",
    "    coo = scipy.sparse.coo_matrix((data, (row, col)), shape=(num_rows, num_cols), dtype=dtype)\n",
    "    return coo"
   ]
  },
  {
   "cell_type": "code",
   "execution_count": 16,
   "metadata": {},
   "outputs": [],
   "source": [
    "def make_Xy(question_player_correct, question_player_incorrect, dtype=None):\n",
    "    correct_coo = construct_sparse_matrix(question_player_correct, dtype=dtype)\n",
    "    incorrect_coo = construct_sparse_matrix(question_player_incorrect, dtype=dtype)\n",
    "    \n",
    "    X = scipy.sparse.vstack([correct_coo, incorrect_coo]).tocsr()\n",
    "    y = np.array(\n",
    "        [CORRECT_LABEL] * correct_coo.shape[0] + [INCORRECT_LABEL] * incorrect_coo.shape[0]\n",
    "    )\n",
    "    \n",
    "    return X, y"
   ]
  },
  {
   "cell_type": "code",
   "execution_count": 17,
   "metadata": {},
   "outputs": [],
   "source": [
    "def _extend_question_team(t, question_player_team):\n",
    "    for team_collection in question_player_team:\n",
    "        t.extend(team_collection)"
   ]
  },
  {
   "cell_type": "code",
   "execution_count": 18,
   "metadata": {},
   "outputs": [],
   "source": [
    "def make_t(question_player_correct_team, question_player_incorrect_team):\n",
    "    t = []\n",
    "    _extend_question_team(t, question_player_correct_team)\n",
    "    _extend_question_team(t, question_player_incorrect_team)\n",
    "    t = np.array(t)\n",
    "    return t"
   ]
  },
  {
   "cell_type": "code",
   "execution_count": 19,
   "metadata": {},
   "outputs": [
    {
     "name": "stdout",
     "output_type": "stream",
     "text": [
      "CPU times: user 12.7 s, sys: 1.36 s, total: 14.1 s\n",
      "Wall time: 14.4 s\n"
     ]
    }
   ],
   "source": [
    "%%time\n",
    "\n",
    "X, y = make_Xy(question_player_correct, question_player_incorrect, dtype=np.uint8)"
   ]
  },
  {
   "cell_type": "code",
   "execution_count": 20,
   "metadata": {},
   "outputs": [
    {
     "name": "stdout",
     "output_type": "stream",
     "text": [
      "CPU times: user 4min 53s, sys: 4.85 s, total: 4min 58s\n",
      "Wall time: 5min 5s\n"
     ]
    },
    {
     "data": {
      "text/plain": [
       "LogisticRegression(n_jobs=-1, solver='sag')"
      ]
     },
     "execution_count": 20,
     "metadata": {},
     "output_type": "execute_result"
    }
   ],
   "source": [
    "%%time\n",
    "\n",
    "lr = LogisticRegression(solver=\"sag\", n_jobs=-1)\n",
    "lr.fit(X, y)"
   ]
  },
  {
   "cell_type": "code",
   "execution_count": 21,
   "metadata": {},
   "outputs": [],
   "source": [
    "idx_player_map = {idx: player for player, idx in player_idx_map.items()}\n",
    "\n",
    "player_baseline_ratings_ = {}\n",
    "for idx, rating in enumerate(lr.coef_.flatten()[len(question_player_correct):]):\n",
    "    player_baseline_ratings_[idx_player_map[idx]] = rating\n",
    "\n",
    "player_baseline_ratings_ = dict(sorted(player_baseline_ratings_.items(), key=lambda x: -x[1]))\n",
    "\n",
    "assert len(player_baseline_ratings_) == len(idx_player_map)"
   ]
  },
  {
   "cell_type": "code",
   "execution_count": 22,
   "metadata": {},
   "outputs": [],
   "source": [
    "def session_with_retries(session, retries=5, backoff_factor=0.3, status_forcelist=(500, 502, 504)):\n",
    "    retry = Retry(total=retries, read=retries, connect=retries, backoff_factor=backoff_factor,\n",
    "                  status_forcelist=status_forcelist)\n",
    "    adapter = HTTPAdapter(max_retries=retry)\n",
    "    session.mount('http://', adapter)\n",
    "    session.mount('https://', adapter)\n",
    "    return session\n",
    "\n",
    "\n",
    "def get_player_actual_rating(player_id, verify=False, **get_kws):\n",
    "    URL = f\"https://rating.chgk.info/api/players/{player_id}/rating/\"\n",
    "    RATING_KEY = \"rating_position\"\n",
    "    DATE_OF_RATING = \"2020-01-01\"\n",
    "    \n",
    "    with session_with_retries(HTMLSession()) as session:\n",
    "        response = session.get(URL, verify=verify, **get_kws)\n",
    "    response_json = response.json()\n",
    "    if response_json:\n",
    "        df = pd.DataFrame(response_json)\n",
    "        idx_rating = abs(pd.to_datetime(df['date']) - pd.to_datetime(DATE_OF_RATING)).idxmin()    \n",
    "        actual_rating = int(df.iloc[idx_rating][RATING_KEY])\n",
    "        return actual_rating\n",
    "    return 0"
   ]
  },
  {
   "cell_type": "code",
   "execution_count": 23,
   "metadata": {},
   "outputs": [],
   "source": [
    "def nearest(items, pivot):\n",
    "    return min(items, key=lambda x: abs(x - pivot))"
   ]
  },
  {
   "cell_type": "code",
   "execution_count": 26,
   "metadata": {},
   "outputs": [
    {
     "data": {
      "application/vnd.jupyter.widget-view+json": {
       "model_id": "92a605d840154cce865cc3c60e6e83a7",
       "version_major": 2,
       "version_minor": 0
      },
      "text/plain": [
       "Dask Apply:   0%|          | 0/16 [00:00<?, ?it/s]"
      ]
     },
     "metadata": {},
     "output_type": "display_data"
    },
    {
     "data": {
      "text/html": [
       "<div>\n",
       "<style scoped>\n",
       "    .dataframe tbody tr th:only-of-type {\n",
       "        vertical-align: middle;\n",
       "    }\n",
       "\n",
       "    .dataframe tbody tr th {\n",
       "        vertical-align: top;\n",
       "    }\n",
       "\n",
       "    .dataframe thead th {\n",
       "        text-align: right;\n",
       "    }\n",
       "</style>\n",
       "<table border=\"1\" class=\"dataframe\">\n",
       "  <thead>\n",
       "    <tr style=\"text-align: right;\">\n",
       "      <th></th>\n",
       "      <th>player_id</th>\n",
       "      <th>baseline_score</th>\n",
       "      <th>actual_rating</th>\n",
       "      <th>baseline_rating</th>\n",
       "    </tr>\n",
       "  </thead>\n",
       "  <tbody>\n",
       "    <tr>\n",
       "      <th>0</th>\n",
       "      <td>27403</td>\n",
       "      <td>4.069354</td>\n",
       "      <td>5</td>\n",
       "      <td>1</td>\n",
       "    </tr>\n",
       "    <tr>\n",
       "      <th>1</th>\n",
       "      <td>4270</td>\n",
       "      <td>3.932639</td>\n",
       "      <td>6</td>\n",
       "      <td>2</td>\n",
       "    </tr>\n",
       "    <tr>\n",
       "      <th>2</th>\n",
       "      <td>28751</td>\n",
       "      <td>3.885278</td>\n",
       "      <td>2</td>\n",
       "      <td>3</td>\n",
       "    </tr>\n",
       "    <tr>\n",
       "      <th>3</th>\n",
       "      <td>27822</td>\n",
       "      <td>3.853132</td>\n",
       "      <td>3</td>\n",
       "      <td>4</td>\n",
       "    </tr>\n",
       "    <tr>\n",
       "      <th>4</th>\n",
       "      <td>30270</td>\n",
       "      <td>3.758611</td>\n",
       "      <td>4</td>\n",
       "      <td>5</td>\n",
       "    </tr>\n",
       "    <tr>\n",
       "      <th>5</th>\n",
       "      <td>30152</td>\n",
       "      <td>3.752961</td>\n",
       "      <td>1</td>\n",
       "      <td>6</td>\n",
       "    </tr>\n",
       "    <tr>\n",
       "      <th>6</th>\n",
       "      <td>18036</td>\n",
       "      <td>3.619303</td>\n",
       "      <td>28</td>\n",
       "      <td>7</td>\n",
       "    </tr>\n",
       "    <tr>\n",
       "      <th>7</th>\n",
       "      <td>20691</td>\n",
       "      <td>3.614520</td>\n",
       "      <td>96</td>\n",
       "      <td>8</td>\n",
       "    </tr>\n",
       "    <tr>\n",
       "      <th>8</th>\n",
       "      <td>87637</td>\n",
       "      <td>3.542938</td>\n",
       "      <td>159</td>\n",
       "      <td>9</td>\n",
       "    </tr>\n",
       "    <tr>\n",
       "      <th>9</th>\n",
       "      <td>22799</td>\n",
       "      <td>3.539642</td>\n",
       "      <td>16</td>\n",
       "      <td>10</td>\n",
       "    </tr>\n",
       "    <tr>\n",
       "      <th>10</th>\n",
       "      <td>26089</td>\n",
       "      <td>3.534390</td>\n",
       "      <td>34</td>\n",
       "      <td>11</td>\n",
       "    </tr>\n",
       "    <tr>\n",
       "      <th>11</th>\n",
       "      <td>22935</td>\n",
       "      <td>3.518440</td>\n",
       "      <td>183</td>\n",
       "      <td>12</td>\n",
       "    </tr>\n",
       "    <tr>\n",
       "      <th>12</th>\n",
       "      <td>21698</td>\n",
       "      <td>3.508490</td>\n",
       "      <td>103</td>\n",
       "      <td>13</td>\n",
       "    </tr>\n",
       "    <tr>\n",
       "      <th>13</th>\n",
       "      <td>18332</td>\n",
       "      <td>3.496666</td>\n",
       "      <td>7</td>\n",
       "      <td>14</td>\n",
       "    </tr>\n",
       "    <tr>\n",
       "      <th>14</th>\n",
       "      <td>74001</td>\n",
       "      <td>3.490580</td>\n",
       "      <td>150</td>\n",
       "      <td>15</td>\n",
       "    </tr>\n",
       "    <tr>\n",
       "      <th>15</th>\n",
       "      <td>56647</td>\n",
       "      <td>3.479746</td>\n",
       "      <td>234</td>\n",
       "      <td>16</td>\n",
       "    </tr>\n",
       "    <tr>\n",
       "      <th>16</th>\n",
       "      <td>37047</td>\n",
       "      <td>3.458127</td>\n",
       "      <td>292</td>\n",
       "      <td>17</td>\n",
       "    </tr>\n",
       "    <tr>\n",
       "      <th>17</th>\n",
       "      <td>13689</td>\n",
       "      <td>3.453090</td>\n",
       "      <td>175</td>\n",
       "      <td>18</td>\n",
       "    </tr>\n",
       "    <tr>\n",
       "      <th>18</th>\n",
       "      <td>16837</td>\n",
       "      <td>3.438445</td>\n",
       "      <td>63</td>\n",
       "      <td>19</td>\n",
       "    </tr>\n",
       "    <tr>\n",
       "      <th>19</th>\n",
       "      <td>24384</td>\n",
       "      <td>3.436049</td>\n",
       "      <td>70</td>\n",
       "      <td>20</td>\n",
       "    </tr>\n",
       "    <tr>\n",
       "      <th>20</th>\n",
       "      <td>7008</td>\n",
       "      <td>3.434309</td>\n",
       "      <td>13</td>\n",
       "      <td>21</td>\n",
       "    </tr>\n",
       "    <tr>\n",
       "      <th>21</th>\n",
       "      <td>16332</td>\n",
       "      <td>3.433579</td>\n",
       "      <td>158</td>\n",
       "      <td>22</td>\n",
       "    </tr>\n",
       "    <tr>\n",
       "      <th>22</th>\n",
       "      <td>30260</td>\n",
       "      <td>3.433257</td>\n",
       "      <td>1561</td>\n",
       "      <td>23</td>\n",
       "    </tr>\n",
       "    <tr>\n",
       "      <th>23</th>\n",
       "      <td>23737</td>\n",
       "      <td>3.428242</td>\n",
       "      <td>30</td>\n",
       "      <td>24</td>\n",
       "    </tr>\n",
       "    <tr>\n",
       "      <th>24</th>\n",
       "      <td>18194</td>\n",
       "      <td>3.426903</td>\n",
       "      <td>176</td>\n",
       "      <td>25</td>\n",
       "    </tr>\n",
       "    <tr>\n",
       "      <th>25</th>\n",
       "      <td>34328</td>\n",
       "      <td>3.424357</td>\n",
       "      <td>238</td>\n",
       "      <td>26</td>\n",
       "    </tr>\n",
       "    <tr>\n",
       "      <th>26</th>\n",
       "      <td>14786</td>\n",
       "      <td>3.419476</td>\n",
       "      <td>81</td>\n",
       "      <td>27</td>\n",
       "    </tr>\n",
       "    <tr>\n",
       "      <th>27</th>\n",
       "      <td>34846</td>\n",
       "      <td>3.417222</td>\n",
       "      <td>55</td>\n",
       "      <td>28</td>\n",
       "    </tr>\n",
       "    <tr>\n",
       "      <th>28</th>\n",
       "      <td>1585</td>\n",
       "      <td>3.415404</td>\n",
       "      <td>157</td>\n",
       "      <td>29</td>\n",
       "    </tr>\n",
       "    <tr>\n",
       "      <th>29</th>\n",
       "      <td>6212</td>\n",
       "      <td>3.409838</td>\n",
       "      <td>11</td>\n",
       "      <td>30</td>\n",
       "    </tr>\n",
       "    <tr>\n",
       "      <th>30</th>\n",
       "      <td>19915</td>\n",
       "      <td>3.395515</td>\n",
       "      <td>15</td>\n",
       "      <td>31</td>\n",
       "    </tr>\n",
       "    <tr>\n",
       "      <th>31</th>\n",
       "      <td>4226</td>\n",
       "      <td>3.394376</td>\n",
       "      <td>390</td>\n",
       "      <td>32</td>\n",
       "    </tr>\n",
       "    <tr>\n",
       "      <th>32</th>\n",
       "      <td>74382</td>\n",
       "      <td>3.394165</td>\n",
       "      <td>29</td>\n",
       "      <td>33</td>\n",
       "    </tr>\n",
       "    <tr>\n",
       "      <th>33</th>\n",
       "      <td>20001</td>\n",
       "      <td>3.386045</td>\n",
       "      <td>171</td>\n",
       "      <td>34</td>\n",
       "    </tr>\n",
       "    <tr>\n",
       "      <th>34</th>\n",
       "      <td>37718</td>\n",
       "      <td>3.370144</td>\n",
       "      <td>87</td>\n",
       "      <td>35</td>\n",
       "    </tr>\n",
       "    <tr>\n",
       "      <th>35</th>\n",
       "      <td>40411</td>\n",
       "      <td>3.360326</td>\n",
       "      <td>6951</td>\n",
       "      <td>36</td>\n",
       "    </tr>\n",
       "    <tr>\n",
       "      <th>36</th>\n",
       "      <td>33032</td>\n",
       "      <td>3.340288</td>\n",
       "      <td>33</td>\n",
       "      <td>37</td>\n",
       "    </tr>\n",
       "    <tr>\n",
       "      <th>37</th>\n",
       "      <td>505</td>\n",
       "      <td>3.336993</td>\n",
       "      <td>40</td>\n",
       "      <td>38</td>\n",
       "    </tr>\n",
       "    <tr>\n",
       "      <th>38</th>\n",
       "      <td>9061</td>\n",
       "      <td>3.329879</td>\n",
       "      <td>228</td>\n",
       "      <td>39</td>\n",
       "    </tr>\n",
       "    <tr>\n",
       "      <th>39</th>\n",
       "      <td>23178</td>\n",
       "      <td>3.325241</td>\n",
       "      <td>8</td>\n",
       "      <td>40</td>\n",
       "    </tr>\n",
       "  </tbody>\n",
       "</table>\n",
       "</div>"
      ],
      "text/plain": [
       "    player_id  baseline_score  actual_rating  baseline_rating\n",
       "0       27403        4.069354              5                1\n",
       "1        4270        3.932639              6                2\n",
       "2       28751        3.885278              2                3\n",
       "3       27822        3.853132              3                4\n",
       "4       30270        3.758611              4                5\n",
       "5       30152        3.752961              1                6\n",
       "6       18036        3.619303             28                7\n",
       "7       20691        3.614520             96                8\n",
       "8       87637        3.542938            159                9\n",
       "9       22799        3.539642             16               10\n",
       "10      26089        3.534390             34               11\n",
       "11      22935        3.518440            183               12\n",
       "12      21698        3.508490            103               13\n",
       "13      18332        3.496666              7               14\n",
       "14      74001        3.490580            150               15\n",
       "15      56647        3.479746            234               16\n",
       "16      37047        3.458127            292               17\n",
       "17      13689        3.453090            175               18\n",
       "18      16837        3.438445             63               19\n",
       "19      24384        3.436049             70               20\n",
       "20       7008        3.434309             13               21\n",
       "21      16332        3.433579            158               22\n",
       "22      30260        3.433257           1561               23\n",
       "23      23737        3.428242             30               24\n",
       "24      18194        3.426903            176               25\n",
       "25      34328        3.424357            238               26\n",
       "26      14786        3.419476             81               27\n",
       "27      34846        3.417222             55               28\n",
       "28       1585        3.415404            157               29\n",
       "29       6212        3.409838             11               30\n",
       "30      19915        3.395515             15               31\n",
       "31       4226        3.394376            390               32\n",
       "32      74382        3.394165             29               33\n",
       "33      20001        3.386045            171               34\n",
       "34      37718        3.370144             87               35\n",
       "35      40411        3.360326           6951               36\n",
       "36      33032        3.340288             33               37\n",
       "37        505        3.336993             40               38\n",
       "38       9061        3.329879            228               39\n",
       "39      23178        3.325241              8               40"
      ]
     },
     "execution_count": 26,
     "metadata": {},
     "output_type": "execute_result"
    }
   ],
   "source": [
    "player_baseline_ratings = pd.Series(player_baseline_ratings_).reset_index().head(1000)\n",
    "player_baseline_ratings.columns = [\"player_id\", \"baseline_score\"]\n",
    "player_baseline_ratings[\"actual_rating\"] = player_baseline_ratings[\"player_id\"].swifter.apply(get_player_actual_rating)\n",
    "player_baseline_ratings = player_baseline_ratings.loc[player_baseline_ratings[\"actual_rating\"] != 0].copy()\n",
    "player_baseline_ratings[\"baseline_rating\"] = range(1, len(player_baseline_ratings) + 1)\n",
    "\n",
    "player_baseline_ratings.head(40)"
   ]
  },
  {
   "cell_type": "code",
   "execution_count": 27,
   "metadata": {},
   "outputs": [],
   "source": [
    "def kendall(x, y):\n",
    "    corr, _ = stats.kendalltau(x, y)\n",
    "    return corr\n",
    "\n",
    "def spearman(x, y):\n",
    "    corr, _ = stats.spearmanr(x, y)\n",
    "    return corr"
   ]
  },
  {
   "cell_type": "code",
   "execution_count": 28,
   "metadata": {},
   "outputs": [
    {
     "name": "stdout",
     "output_type": "stream",
     "text": [
      "Корреляция Кенделла между рейтингами игроков и реальными: 0.348702393603322\n",
      "Корреляция Cпирмена между рейтингами игроков и реальными: 0.49537469337691215\n"
     ]
    }
   ],
   "source": [
    "kendall_corr_baseline_actual_rating = kendall(\n",
    "    player_baseline_ratings[\"baseline_rating\"], player_baseline_ratings[\"actual_rating\"]\n",
    ")\n",
    "\n",
    "spearman_corr_baseline_actual_rating = spearman(\n",
    "    player_baseline_ratings[\"baseline_rating\"], player_baseline_ratings[\"actual_rating\"]\n",
    ")\n",
    "\n",
    "print(f\"Корреляция Кенделла между рейтингами игроков и реальными: {kendall_corr_baseline_actual_rating}\")\n",
    "print(f\"Корреляция Cпирмена между рейтингами игроков и реальными: {spearman_corr_baseline_actual_rating}\")"
   ]
  },
  {
   "cell_type": "markdown",
   "metadata": {},
   "source": [
    "# 3 часть. Качество рейтинг-системы\n",
    "\n",
    "Качество рейтинг-системы оценивается качеством предсказаний результатов турниров. Но сами повопросные результаты наши модели предсказывать вряд ли смогут, ведь неизвестно, насколько сложными окажутся вопросы в будущих турнирах; да и не нужны эти предсказания сами по себе. Поэтому:\n",
    "\n",
    "- предложите способ предсказать результаты нового турнира с известными составами, но неизвестными вопросами, в виде ранжирования команд;\n",
    "- в качестве метрики качества на тестовом наборе давайте считать ранговые корреляции Спирмена и Кендалла (их можно взять в пакете scipy) между реальным ранжированием в результатах турнира и предсказанным моделью, усреднённые по тестовому множеству турниров.\n"
   ]
  },
  {
   "cell_type": "markdown",
   "metadata": {},
   "source": [
    "## Описание решения\n",
    "\n",
    "Попробуем две стратегии ранжирования команд:\n",
    "- по рейтингу лучшего игрока\n",
    "- по среднему рейтингу всей команды"
   ]
  },
  {
   "cell_type": "code",
   "execution_count": 29,
   "metadata": {},
   "outputs": [],
   "source": [
    "NUM_QUESTIONS = int(num_questions / len(train))\n",
    "\n",
    "\n",
    "def fillna_and_sort_team_player_scores(team_player_scores):\n",
    "    team_player_scores_flatten = [s for s in itertools.chain(*team_player_scores) if s is not None]\n",
    "    player_avg_score = np.mean(team_player_scores_flatten)\n",
    "    \n",
    "    for i, _ in enumerate(team_player_scores):\n",
    "        team_player_scores[i] = sorted([s if s is not None else player_avg_score for s in team_player_scores[i]], reverse=True)\n",
    "\n",
    "\n",
    "def estimated_team_ranking(teams, player_ratings, aggregated_top=1):\n",
    "    team_player_scores = [None] * len(teams) \n",
    "    for idx, team in enumerate(teams):\n",
    "        players = team[TEAM_PLAYERS_KEY]\n",
    "        player_scores = [player_ratings.get(player) for player in players]\n",
    "        team_player_scores[idx] = player_scores\n",
    "    \n",
    "    fillna_and_sort_team_player_scores(team_player_scores)\n",
    "    \n",
    "    team_estimated_scores = np.array([np.mean(tps[:aggregated_top]) for tps in team_player_scores])\n",
    "    team_estimated_ranking = np.argsort(-team_estimated_scores) + 1\n",
    "    \n",
    "    return team_estimated_ranking\n",
    "\n",
    "\n",
    "def actual_team_ranking(teams):\n",
    "    team_actual_scores = [None] * len(teams) \n",
    "    for idx, team in enumerate(teams):\n",
    "        answers = team[TEAM_ANSWERS_KEY]\n",
    "        team_actual_scores[idx] = sum(answers)\n",
    "    \n",
    "    team_actual_scores = np.array(team_actual_scores)\n",
    "    team_actual_ranking = np.argsort(-team_actual_scores) + 1\n",
    "    \n",
    "    return team_actual_ranking\n",
    "\n",
    "\n",
    "def construct_one_hot(idx, size):\n",
    "    row = [0]\n",
    "    col = [idx]\n",
    "    data = [1]\n",
    "    one_hot = scipy.sparse.coo_matrix((data, (row, col)), shape=(1, size))\n",
    "    return one_hot\n",
    "\n",
    "\n",
    "def construct_question_player_row(question_idx, player_idx, size):\n",
    "    qsize, psize = size\n",
    "    question_one_hot = construct_one_hot(question_idx, qsize)\n",
    "    player_one_hot = construct_one_hot(player_idx, psize)\n",
    "    res = scipy.sparse.hstack([question_one_hot, player_one_hot])\n",
    "    return res\n",
    "\n",
    "\n",
    "def model_predict_team_ranking(model, teams, player_idx_map, question_player, num_questions, correct_answer_prob_threshold=0.5):\n",
    "    qsize = len(question_player)\n",
    "    psize = len(player_idx_map)\n",
    "    \n",
    "    question_idxs = np.random.choice(range(len(question_player)), size=num_questions)\n",
    "    \n",
    "    team_predicted_scores = [0] * len(teams)\n",
    "    for team_idx, team in enumerate(teams):\n",
    "        players = team[TEAM_PLAYERS_KEY]\n",
    "        player_idxs = [player_idx_map[player] for player in players if player in player_idx_map]\n",
    "        \n",
    "        for question_idx in question_idxs:\n",
    "            rows = [\n",
    "                construct_question_player_row(question_idx, player_idx, size=(qsize, psize))\n",
    "                for player_idx in player_idxs\n",
    "            ]\n",
    "            if not rows:\n",
    "                continue\n",
    "            rows = scipy.sparse.vstack(rows)\n",
    "            probas = model.predict_proba(rows)[:, 0]\n",
    "            wrong_answer_proba = np.prod(probas)\n",
    "            correct_answer_proba = 1 - wrong_answer_proba\n",
    "            if correct_answer_proba >= correct_answer_prob_threshold:\n",
    "                team_predicted_scores[team_idx] += 1\n",
    "                \n",
    "    team_predicted_scores = np.array(team_predicted_scores)\n",
    "    team_predicted_ranking = np.argsort(-team_predicted_scores) + 1\n",
    "    \n",
    "    return team_predicted_ranking"
   ]
  },
  {
   "cell_type": "code",
   "execution_count": 40,
   "metadata": {},
   "outputs": [
    {
     "data": {
      "application/vnd.jupyter.widget-view+json": {
       "model_id": "907ebca4654148feaea40e4e9c0f5b4e",
       "version_major": 2,
       "version_minor": 0
      },
      "text/plain": [
       "  0%|          | 0/156 [00:00<?, ?it/s]"
      ]
     },
     "metadata": {},
     "output_type": "display_data"
    },
    {
     "name": "stdout",
     "output_type": "stream",
     "text": [
      "\n",
      " Лучший игрок в команде:\n",
      "1) Корреляция Кенделла на тестовом множестве: 0.5428304455477393\n",
      "1) Корреляция Cпирмена на тестовом множестве: 0.7153277613165121\n",
      "\n",
      " Средний рейтинг игроков команды:\n",
      "2) Корреляция Кенделла на тестовом множестве: 0.5530961871867169\n",
      "2) Корреляция Cпирмена на тестовом множестве: 0.7201702738804968\n"
     ]
    }
   ],
   "source": [
    "top1_kendall_corrs, top1_spearman_corrs = [], []\n",
    "top5_kendall_corrs, top5_spearman_corrs = [], []\n",
    "\n",
    "for tournament in tqdm(test): \n",
    "    teams = tournament[TOURNAMENT_TEAMS_KEY]\n",
    "    \n",
    "    actual_ranking = actual_team_ranking(teams)\n",
    "    \n",
    "    top1_ranking = estimated_team_ranking(teams, player_baseline_ratings_, 1)\n",
    "    top1_kendall_corrs.append(kendall(actual_ranking, top1_ranking))\n",
    "    top1_spearman_corrs.append(spearman(actual_ranking, top1_ranking))\n",
    "    \n",
    "    top5_ranking = estimated_team_ranking(teams, player_baseline_ratings_, 1000)\n",
    "    top5_kendall_corrs.append(kendall(actual_ranking, top5_ranking))\n",
    "    top5_spearman_corrs.append(spearman(actual_ranking, top5_ranking))    \n",
    "\n",
    "print('\\n Лучший игрок в команде:')    \n",
    "print(f\"1) Корреляция Кенделла на тестовом множестве: {np.mean(top1_kendall_corrs)}\")\n",
    "print(f\"1) Корреляция Cпирмена на тестовом множестве: {np.mean(top1_spearman_corrs)}\")\n",
    "print('\\n Средний рейтинг игроков команды:')    \n",
    "print(f\"2) Корреляция Кенделла на тестовом множестве: {np.mean(top5_kendall_corrs)}\")\n",
    "print(f\"2) Корреляция Cпирмена на тестовом множестве: {np.mean(top5_spearman_corrs)}\")"
   ]
  },
  {
   "cell_type": "code",
   "execution_count": null,
   "metadata": {},
   "outputs": [],
   "source": []
  },
  {
   "cell_type": "code",
   "execution_count": null,
   "metadata": {},
   "outputs": [],
   "source": []
  }
 ],
 "metadata": {
  "kernelspec": {
   "display_name": "Python 3",
   "language": "python",
   "name": "python3"
  },
  "language_info": {
   "codemirror_mode": {
    "name": "ipython",
    "version": 3
   },
   "file_extension": ".py",
   "mimetype": "text/x-python",
   "name": "python",
   "nbconvert_exporter": "python",
   "pygments_lexer": "ipython3",
   "version": "3.8.10"
  }
 },
 "nbformat": 4,
 "nbformat_minor": 4
}
