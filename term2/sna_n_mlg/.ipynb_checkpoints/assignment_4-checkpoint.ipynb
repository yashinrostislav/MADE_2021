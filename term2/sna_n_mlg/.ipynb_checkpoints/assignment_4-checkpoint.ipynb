{
 "cells": [
  {
   "cell_type": "markdown",
   "metadata": {},
   "source": [
    "# Assignment — Link analysis and structure properties"
   ]
  },
  {
   "cell_type": "code",
   "execution_count": 1,
   "metadata": {},
   "outputs": [],
   "source": [
    "from scipy.sparse.csgraph import reverse_cuthill_mckee\n",
    "import pandas as pd\n",
    "from sklearn.metrics.pairwise import cosine_similarity\n",
    "import seaborn as sns\n",
    "import numpy as np\n",
    "import matplotlib.pyplot as plt\n",
    "from scipy.sparse import csr_matrix\n",
    "import requests\n",
    "import networkx as nx"
   ]
  },
  {
   "cell_type": "markdown",
   "metadata": {},
   "source": [
    "### Task 1. PageRank algorithm (0 points)"
   ]
  },
  {
   "cell_type": "markdown",
   "metadata": {},
   "source": [
    "Implement PageRank algorithm. A function `page_rank` takes a graph `G`, transition coefficient `alpha` and number of iterations `k`. The function returns np.array of PageRank scores.\n"
   ]
  },
  {
   "cell_type": "code",
   "execution_count": 2,
   "metadata": {
    "deletable": false,
    "editable": false,
    "nbgrader": {
     "cell_type": "code",
     "checksum": "c223056ef7ffd6f1f880a21421b5f24d",
     "grade": false,
     "grade_id": "cell-03522d80086a8dd6",
     "locked": true,
     "schema_version": 3,
     "solution": false,
     "task": false
    }
   },
   "outputs": [],
   "source": [
    "'''Do not touch the cell'''\n",
    "def page_rank(G, alpha, k):\n",
    "    A = nx.to_numpy_array(G)\n",
    "    P = transition_matrix(A)\n",
    "    v = teleportation_vector(A)\n",
    "    rank = np.ones(A.shape[0]) / A.shape[0]\n",
    "    for _ in range(k):\n",
    "        rank = update_rank(rank, P, v, alpha)\n",
    "    return rank / rank.sum()"
   ]
  },
  {
   "cell_type": "markdown",
   "metadata": {},
   "source": [
    "Write a function `transition_matrix` that takes a np.array with an adjacency matrix `A` and returns a np.array with a transition matrix where an entry $p_{ij}$ equals to probability of going to $j$ if we are in $i$."
   ]
  },
  {
   "cell_type": "code",
   "execution_count": 3,
   "metadata": {
    "deletable": false,
    "nbgrader": {
     "cell_type": "code",
     "checksum": "41fabd4dacdb93925ce7d57242c12fad",
     "grade": false,
     "grade_id": "cell-8fd0d5cff01278ae",
     "locked": false,
     "schema_version": 3,
     "solution": true,
     "task": false
    }
   },
   "outputs": [],
   "source": [
    "def transition_matrix(A):\n",
    "    return A / np.vstack(A.sum(axis=1))"
   ]
  },
  {
   "cell_type": "code",
   "execution_count": 4,
   "metadata": {
    "deletable": false,
    "editable": false,
    "nbgrader": {
     "cell_type": "code",
     "checksum": "d9bcb56e3c9e0dacccb6af6d9f01c52e",
     "grade": true,
     "grade_id": "cell-d01ac29b194c8d66",
     "locked": true,
     "points": 0,
     "schema_version": 3,
     "solution": false,
     "task": false
    }
   },
   "outputs": [],
   "source": [
    "A = [[0, 1, 1], # probability P(0→1) = P(0→2) = 1/2\n",
    "     [0, 0, 1], # probability P(1→2) = 1\n",
    "     [1, 0, 0]] # probability P(2→0) = 1\n",
    "A = np.array(A)\n",
    "tran_sum = transition_matrix(A).sum(axis=1)\n",
    "assert tran_sum[0] == tran_sum[1] == tran_sum[2] == 1"
   ]
  },
  {
   "cell_type": "markdown",
   "metadata": {},
   "source": [
    "Write a function `teleportation_vector` that takes a np.array with an adjacency matrix `A` and returns a np.array with a teleportation vector where $p_i$ is a probability to teleport to a node $i$ (by default it is a uniform distribution)."
   ]
  },
  {
   "cell_type": "code",
   "execution_count": 5,
   "metadata": {
    "deletable": false,
    "nbgrader": {
     "cell_type": "code",
     "checksum": "c51d5421bb76304666a90ab8b03f5cb1",
     "grade": false,
     "grade_id": "cell-f0bcf9124c0d7bdd",
     "locked": false,
     "schema_version": 3,
     "solution": true,
     "task": false
    }
   },
   "outputs": [],
   "source": [
    "def teleportation_vector(A):\n",
    "    return np.ones(A.shape[1])/A.shape[1]"
   ]
  },
  {
   "cell_type": "code",
   "execution_count": 6,
   "metadata": {
    "deletable": false,
    "editable": false,
    "nbgrader": {
     "cell_type": "code",
     "checksum": "f95736fcd0db9f099ff974c3208faeb2",
     "grade": true,
     "grade_id": "cell-068e341ddd0332ba",
     "locked": true,
     "points": 0,
     "schema_version": 3,
     "solution": false,
     "task": false
    }
   },
   "outputs": [],
   "source": [
    "assert teleportation_vector(A).sum() == 1"
   ]
  },
  {
   "cell_type": "markdown",
   "metadata": {},
   "source": [
    "Write a function `update_rank`. Check the function `page_rank` to understand parameters. An iterative process is defined as\n",
    "\n",
    "$$\\begin{matrix}\n",
    "r &=& \\text{transition} &+& \\text{teleportation}\\\\\n",
    "r &=& \\alpha P^T r &+& (1 - \\alpha)v\n",
    "\\end{matrix}\n",
    "$$\n",
    "\n",
    "where $P$ is a transition matrix, $v$ is a teleportation vector."
   ]
  },
  {
   "cell_type": "code",
   "execution_count": 7,
   "metadata": {
    "deletable": false,
    "nbgrader": {
     "cell_type": "code",
     "checksum": "85aa54e35aacb245aa55a8c731257fd4",
     "grade": false,
     "grade_id": "cell-c55a424a1ad9798a",
     "locked": false,
     "schema_version": 3,
     "solution": true,
     "task": false
    }
   },
   "outputs": [],
   "source": [
    "def update_rank(rank, P, v, alpha):\n",
    "    return alpha * P.T @ rank + (1.0 - alpha) * v"
   ]
  },
  {
   "cell_type": "code",
   "execution_count": 8,
   "metadata": {},
   "outputs": [
    {
     "name": "stderr",
     "output_type": "stream",
     "text": [
      "<ipython-input-3-d77aab00f227>:2: RuntimeWarning: invalid value encountered in true_divide\n",
      "  return A / np.vstack(A.sum(axis=1))\n"
     ]
    },
    {
     "ename": "AssertionError",
     "evalue": "",
     "output_type": "error",
     "traceback": [
      "\u001b[0;31m---------------------------------------------------------------------------\u001b[0m",
      "\u001b[0;31mAssertionError\u001b[0m                            Traceback (most recent call last)",
      "\u001b[0;32m<ipython-input-8-7edb7c61b7d7>\u001b[0m in \u001b[0;36m<module>\u001b[0;34m\u001b[0m\n\u001b[1;32m      1\u001b[0m \u001b[0mG\u001b[0m \u001b[0;34m=\u001b[0m \u001b[0mnx\u001b[0m\u001b[0;34m.\u001b[0m\u001b[0mpath_graph\u001b[0m\u001b[0;34m(\u001b[0m\u001b[0;36m6\u001b[0m\u001b[0;34m,\u001b[0m \u001b[0mcreate_using\u001b[0m\u001b[0;34m=\u001b[0m\u001b[0mnx\u001b[0m\u001b[0;34m.\u001b[0m\u001b[0mDiGraph\u001b[0m\u001b[0;34m)\u001b[0m\u001b[0;34m\u001b[0m\u001b[0;34m\u001b[0m\u001b[0m\n\u001b[1;32m      2\u001b[0m \u001b[0mpr\u001b[0m \u001b[0;34m=\u001b[0m \u001b[0mpage_rank\u001b[0m\u001b[0;34m(\u001b[0m\u001b[0mG\u001b[0m\u001b[0;34m,\u001b[0m \u001b[0;36m0.9\u001b[0m\u001b[0;34m,\u001b[0m \u001b[0;36m100\u001b[0m\u001b[0;34m)\u001b[0m\u001b[0;34m\u001b[0m\u001b[0;34m\u001b[0m\u001b[0m\n\u001b[0;32m----> 3\u001b[0;31m \u001b[0;32massert\u001b[0m \u001b[0mnp\u001b[0m\u001b[0;34m.\u001b[0m\u001b[0mall\u001b[0m\u001b[0;34m(\u001b[0m\u001b[0mpr\u001b[0m\u001b[0;34m[\u001b[0m\u001b[0;36m1\u001b[0m\u001b[0;34m:\u001b[0m\u001b[0;34m]\u001b[0m \u001b[0;34m-\u001b[0m \u001b[0mpr\u001b[0m\u001b[0;34m[\u001b[0m\u001b[0;34m:\u001b[0m\u001b[0;34m-\u001b[0m\u001b[0;36m1\u001b[0m\u001b[0;34m]\u001b[0m \u001b[0;34m>\u001b[0m \u001b[0;36m0\u001b[0m\u001b[0;34m)\u001b[0m\u001b[0;34m\u001b[0m\u001b[0;34m\u001b[0m\u001b[0m\n\u001b[0m",
      "\u001b[0;31mAssertionError\u001b[0m: "
     ]
    }
   ],
   "source": [
    "G = nx.path_graph(6, create_using=nx.DiGraph)\n",
    "pr = page_rank(G, 0.9, 100)\n",
    "assert np.all(pr[1:] - pr[:-1] > 0)"
   ]
  },
  {
   "cell_type": "markdown",
   "metadata": {},
   "source": [
    "Let us draw the graph where node size depends on PageRank."
   ]
  },
  {
   "cell_type": "code",
   "execution_count": null,
   "metadata": {},
   "outputs": [],
   "source": [
    "graphs = [\n",
    "    nx.path_graph(6, create_using=nx.DiGraph),\n",
    "    nx.cycle_graph(6, create_using=nx.DiGraph),\n",
    "    nx.DiGraph(nx.path_graph(6)),\n",
    "    nx.erdos_renyi_graph(10, 0.2, directed=True)\n",
    "]\n",
    "for G in graphs:\n",
    "    pr = page_rank(G, 0.9, 100)\n",
    "    nx.draw(\n",
    "        G,\n",
    "        with_labels=True,\n",
    "        node_size=(pr * 1e4),\n",
    "        labels={node: f'{rank:.2f}' for node, rank in enumerate(pr)}\n",
    "    )\n",
    "    plt.show()"
   ]
  },
  {
   "cell_type": "markdown",
   "metadata": {},
   "source": [
    "### Task 2. Personalized PageRank (0 points)"
   ]
  },
  {
   "cell_type": "markdown",
   "metadata": {},
   "source": [
    "Personalized PageRank uses a teleportation vector as personal preferences, so that an important node has high probability to jump into it. Personalized PageRank can be considered as a simple recommender system. Consider a dataset of links between some famous painters on Wikipedia. Common PageRank gives us following ranks."
   ]
  },
  {
   "cell_type": "code",
   "execution_count": null,
   "metadata": {},
   "outputs": [],
   "source": [
    "def plot_painters(G, pr):\n",
    "    pos = nx.kamada_kawai_layout(G)\n",
    "    plt.figure(figsize=(9, 9))\n",
    "    nx.draw_networkx(\n",
    "        G, \n",
    "        pos, \n",
    "        node_size=(pr * 1e4), \n",
    "        labels={node: f'{rank:.2f}' for node, rank in enumerate(pr)})\n",
    "    nx.draw_networkx_labels(\n",
    "        G, \n",
    "        pos={node: pos[node] + [0, 0.05] for node in pos}, \n",
    "        labels=nx.get_node_attributes(G, 'name')\n",
    "    )\n",
    "\n",
    "url = 'https://raw.githubusercontent.com/netspractice/network-science/main/datasets/painters_graph.gml'\n",
    "open('painters_graph.gml', 'wb').write(requests.get(url).content)\n",
    "G = nx.read_gml('painters_graph.gml')\n",
    "G = nx.convert_node_labels_to_integers(G)\n",
    "pr = np.array([rank for node, rank in nx.pagerank(G, alpha=0.9).items()])\n",
    "plot_painters(G, pr)\n",
    "plt.show()"
   ]
  },
  {
   "cell_type": "markdown",
   "metadata": {},
   "source": [
    "Now let us calculate personalized PageRank based on user's preferences. Construct a teleportation vector so that painters a user likes are proportional to ones and others are zeros.\n",
    "\n",
    "Write a function `personalized_pr` that takes an argument of common PageRank and a list `pref` that contains names of painters that user likes. The function returns personalized PageRank."
   ]
  },
  {
   "cell_type": "code",
   "execution_count": null,
   "metadata": {
    "deletable": false,
    "nbgrader": {
     "cell_type": "code",
     "checksum": "37f614366665e1e66886f5964b581c8b",
     "grade": false,
     "grade_id": "cell-60a4fc6b367cfadc",
     "locked": false,
     "schema_version": 3,
     "solution": true,
     "task": false
    }
   },
   "outputs": [],
   "source": [
    "def personalized_pr(G, alpha, pref, k):\n",
    "    # YOUR CODE HERE\n",
    "    raise NotImplementedError()"
   ]
  },
  {
   "cell_type": "code",
   "execution_count": null,
   "metadata": {
    "deletable": false,
    "editable": false,
    "nbgrader": {
     "cell_type": "code",
     "checksum": "0f9136c4fd8b2f6f94349818b936ddc1",
     "grade": true,
     "grade_id": "cell-3653c3a8d9f562fc",
     "locked": true,
     "points": 0,
     "schema_version": 3,
     "solution": false,
     "task": false
    }
   },
   "outputs": [],
   "source": [
    "pref = ['Pablo Picasso', 'Edgar Degas']\n",
    "pr1 = personalized_pr(G, alpha=0.9, pref=pref, k=100)\n",
    "pref = ['Edgar Degas']\n",
    "pr2 = personalized_pr(G, alpha=0.9, pref=pref, k=100)\n",
    "assert np.isclose(pr1.sum(), 1) and np.isclose(pr2.sum(), 1)\n",
    "assert pr1[0] > pr2[0]\n",
    "assert pr1[7] < pr2[7]"
   ]
  },
  {
   "cell_type": "code",
   "execution_count": null,
   "metadata": {},
   "outputs": [],
   "source": [
    "cases = [\n",
    "    ['Pablo Picasso', 'Edgar Degas'], \n",
    "    ['Edgar Degas'], \n",
    "    ['Henri Matisse']\n",
    "]\n",
    "for pref in cases:\n",
    "    pr = personalized_pr(G, alpha=0.9, pref=pref, k=100)\n",
    "    plot_painters(G, pr)\n",
    "    pref = ', '.join(pref)\n",
    "    plt.title(f'Preferences: {pref}')"
   ]
  },
  {
   "cell_type": "markdown",
   "metadata": {},
   "source": [
    "Low transionion probability forces to teleport into prefferential nodes and vice versa, so we can adjust the power of preferences changing transition probability."
   ]
  },
  {
   "cell_type": "code",
   "execution_count": null,
   "metadata": {},
   "outputs": [],
   "source": [
    "pref = ['Pablo Picasso', 'Edgar Degas']\n",
    "alpha = 0.3\n",
    "pr = personalized_pr(G, alpha=alpha, pref=pref, k=100)\n",
    "plot_painters(G, pr)\n",
    "pref = ', '.join(pref)\n",
    "plt.title(f'Preferences: {pref}\\n Transition probablity is {alpha}');"
   ]
  },
  {
   "cell_type": "markdown",
   "metadata": {},
   "source": [
    "### Task 3. PageRank visualization (3 points)"
   ]
  },
  {
   "cell_type": "markdown",
   "metadata": {},
   "source": [
    "In this task we will visualize some properties of PageRank. First, we draw a plot where every line represents a PageRank of a node with respect to alpha while the number of iterations is fixed.\n",
    "\n",
    "Write a function `rank_matrix_by_alpha` that takes a graph `G`, np.array of `alphas`, number of iterations `k` and returns a matrix of PageRank scores where alphas are rows and nodes are columns."
   ]
  },
  {
   "cell_type": "code",
   "execution_count": null,
   "metadata": {
    "deletable": false,
    "nbgrader": {
     "cell_type": "code",
     "checksum": "0cf54545489af586684ad3c7941e5c8c",
     "grade": false,
     "grade_id": "cell-cb4d085a7e801d78",
     "locked": false,
     "schema_version": 3,
     "solution": true,
     "task": false
    }
   },
   "outputs": [],
   "source": [
    "def rank_matrix_by_alpha(G, alphas, k):\n",
    "    # YOUR CODE HERE\n",
    "    raise NotImplementedError()"
   ]
  },
  {
   "cell_type": "code",
   "execution_count": null,
   "metadata": {
    "deletable": false,
    "editable": false,
    "nbgrader": {
     "cell_type": "code",
     "checksum": "d3c2eb0b73ecbf86df4d65fdfc614769",
     "grade": true,
     "grade_id": "cell-55178fe3455bd1c8",
     "locked": true,
     "points": 0.75,
     "schema_version": 3,
     "solution": false,
     "task": false
    }
   },
   "outputs": [],
   "source": [
    "url = 'https://raw.githubusercontent.com/netspractice/network-science/main/datasets/painters_graph.gml'\n",
    "open('painters_graph.gml', 'wb').write(requests.get(url).content)\n",
    "G = nx.read_gml('painters_graph.gml')\n",
    "G = nx.convert_node_labels_to_integers(G)\n",
    "alpha_space = np.linspace(0.1, 0.95, 100)\n",
    "ranks = rank_matrix_by_alpha(G, alpha_space, 100)\n",
    "assert ranks.shape == (100, 14)\n",
    "assert ranks[-1, 0] < ranks[0, 0] < 0.08\n",
    "assert ranks[0, 7] > ranks[-1, 7] > 0.02"
   ]
  },
  {
   "cell_type": "markdown",
   "metadata": {},
   "source": [
    "Now write a function `node_color` that takes a `node` and np.array with PageRank scores `rank`. The length of `rank` is the number of nodes and `rank[node]` is a score of a node. Also here are two colors:\n",
    "* `start_rgb` — a np.array of RGB color [0-1, 0-1, 0-1]\n",
    "* `end_rgb` — a np.array of RGB color [0-1, 0-1, 0-1]\n",
    "\n",
    "The function is a linear mapping from an _index_ (not score) of a node in sorted PageRank to a RGB color, that is the lowest index is a start color and the largest index is an end color. \n",
    "\n",
    "_For example, if a start color is [1, 1, 1], end color is [0, 0, 0] and PageRank of nodes are_\n",
    "* 0: 0.1\n",
    "* 1: 0.2\n",
    "* 2: 0.7\n",
    "\n",
    "_then the mapping of node 1 will be [0.5, 0.5, 0.5]._\n",
    "\n",
    "The function returns a np.array of RGB color."
   ]
  },
  {
   "cell_type": "code",
   "execution_count": null,
   "metadata": {
    "deletable": false,
    "nbgrader": {
     "cell_type": "code",
     "checksum": "ec1643ce114dd933a6cf84cbfa82dec9",
     "grade": false,
     "grade_id": "cell-c73a7a18f2c05f9e",
     "locked": false,
     "schema_version": 3,
     "solution": true,
     "task": false
    }
   },
   "outputs": [],
   "source": [
    "def node_color(node, rank, start_rgb, end_rgb):\n",
    "    # YOUR CODE HERE\n",
    "    raise NotImplementedError()"
   ]
  },
  {
   "cell_type": "code",
   "execution_count": null,
   "metadata": {
    "deletable": false,
    "editable": false,
    "nbgrader": {
     "cell_type": "code",
     "checksum": "1403e4ef7bb540f0c760e2785b83da10",
     "grade": true,
     "grade_id": "cell-6fcdf663af93ac9a",
     "locked": true,
     "points": 0.75,
     "schema_version": 3,
     "solution": false,
     "task": false
    }
   },
   "outputs": [],
   "source": [
    "rank = np.array([0.1, 0.2, 0.7])\n",
    "start_rgb, end_rgb = np.array([1, 1, 1]), np.array([0, 0, 0])\n",
    "temp_rgb = node_color(1, rank, start_rgb, end_rgb)\n",
    "assert temp_rgb.shape == (3,)\n",
    "assert 0 <= temp_rgb.sum() <= 3\n",
    "assert temp_rgb[0] == temp_rgb[1] == temp_rgb[2] == 0.5\n",
    "temp_rgb = node_color(0, rank, start_rgb, end_rgb)\n",
    "assert temp_rgb[0] == temp_rgb[1] == temp_rgb[2] == 1\n",
    "temp_rgb = node_color(2, rank, start_rgb, end_rgb)\n",
    "assert temp_rgb[0] == temp_rgb[1] == temp_rgb[2] == 0\n",
    "start_rgb = np.array([231, 76, 60]) / 255\n",
    "end_rgb = np.array([46, 204, 113 ]) / 255\n",
    "assert round(node_color(0, ranks[-1], start_rgb, end_rgb).sum(), 4) == 1.432\n",
    "assert round(node_color(1, ranks[-1], start_rgb, end_rgb).sum(), 4) == 1.4271"
   ]
  },
  {
   "cell_type": "markdown",
   "metadata": {},
   "source": [
    "Let us draw PageRank of nodes by alpha. Node with the lowest PageRank will be red, the largest — green, and others will spread between them."
   ]
  },
  {
   "cell_type": "code",
   "execution_count": null,
   "metadata": {},
   "outputs": [],
   "source": [
    "plt.figure(figsize=(14, 5))\n",
    "\n",
    "cases = [[1, None, None, None, None, 'PageRank of nodes'], \n",
    "         [2, 0.7, 0.95, 0.02, 0.12, 'PageRank of nodes (zoom)']]\n",
    "\n",
    "for i, x_min, x_max, y_min, y_max, t in cases:\n",
    "    plt.subplot(1, 2, i)\n",
    "    for idx, node in enumerate(G.nodes):\n",
    "        plt.plot(\n",
    "            alpha_space, \n",
    "            ranks[:, idx], \n",
    "            color=node_color(idx, ranks[-1], start_rgb, end_rgb)\n",
    "        )\n",
    "    plt.xlabel('alpha')\n",
    "    plt.ylabel('PageRank')\n",
    "    plt.title(t)\n",
    "    plt.xlim(x_min, x_max)\n",
    "    plt.ylim(y_min, y_max)"
   ]
  },
  {
   "cell_type": "markdown",
   "metadata": {},
   "source": [
    "We can observe that reds are going down, greens going up, but some intermediate nodes change the direction near alpha 0.7. Next, let us draw a similar plot — PageRank of nodes with respect to number of iterations while alpha is fixed.\n",
    "\n",
    "Write a function `rank_matrix_by_alpha` that takes a graph `G`, `alpha`, number of iterations `k` and returns a matrix of PageRank scores where iterations are rows and nodes are columns. Iterations are 1, 2, ..., `k`."
   ]
  },
  {
   "cell_type": "code",
   "execution_count": null,
   "metadata": {
    "deletable": false,
    "nbgrader": {
     "cell_type": "code",
     "checksum": "c116e0af6bcd617747eb0b2ce43cd056",
     "grade": false,
     "grade_id": "cell-85201461fc06f970",
     "locked": false,
     "schema_version": 3,
     "solution": true,
     "task": false
    }
   },
   "outputs": [],
   "source": [
    "def rank_matrix_by_number(G, alpha, k):\n",
    "    # YOUR CODE HERE\n",
    "    raise NotImplementedError()"
   ]
  },
  {
   "cell_type": "code",
   "execution_count": null,
   "metadata": {
    "deletable": false,
    "editable": false,
    "nbgrader": {
     "cell_type": "code",
     "checksum": "585215bb70a2caffabcb44117c99fe15",
     "grade": true,
     "grade_id": "cell-326b1dacff6d46f5",
     "locked": true,
     "points": 0.75,
     "schema_version": 3,
     "solution": false,
     "task": false
    }
   },
   "outputs": [],
   "source": [
    "ranks = rank_matrix_by_number(G, 0.9, 15)\n",
    "ranks.shape == (16, 34)\n",
    "assert 0.04 < ranks[:, 0].min() < ranks[:, 0].max() < 0.09\n",
    "assert 0.03 < ranks[:, 7].min() < ranks[:, 7].max() < 0.06"
   ]
  },
  {
   "cell_type": "markdown",
   "metadata": {},
   "source": [
    "Let us draw dependencies between PageRank and number of iterations."
   ]
  },
  {
   "cell_type": "code",
   "execution_count": null,
   "metadata": {},
   "outputs": [],
   "source": [
    "plt.figure(figsize=(7, 5))\n",
    "for idx, node in enumerate(G.nodes):\n",
    "    plt.plot(\n",
    "        ranks[:, idx], \n",
    "        color=node_color(idx, ranks[-1], start_rgb, end_rgb)\n",
    "    )\n",
    "plt.xlabel('number of iterations')\n",
    "plt.ylabel('PageRank')\n",
    "plt.title('PageRank by nodes')\n",
    "plt.show()"
   ]
  },
  {
   "cell_type": "markdown",
   "metadata": {},
   "source": [
    "Next, let us see another visualization of PageRank dynamics. Here are nodes on x axis and PageRank on y axis with log scale."
   ]
  },
  {
   "cell_type": "code",
   "execution_count": null,
   "metadata": {},
   "outputs": [],
   "source": [
    "plt.figure(figsize=(12, 6))\n",
    "\n",
    "plt.subplot(1, 2, 1)\n",
    "artists = []\n",
    "for alpha in np.linspace(0.1, 0.95, 9):\n",
    "    artists.append(plt.plot(page_rank(G, alpha, 30), alpha=alpha+0.05, c='tab:orange')[0])\n",
    "plt.title('PageRank with alpha from 0.1 to 0.95\\n number of iterations is 30')\n",
    "plt.xlabel('node')\n",
    "plt.ylabel('PageRank')\n",
    "plt.legend([artists[0], artists[-1]], ['alpha is 0.1', 'alpha is 0.95'])\n",
    "\n",
    "plt.subplot(1, 2, 2)\n",
    "artists = []\n",
    "for i in np.arange(1, 20):\n",
    "    artists.append(plt.plot(page_rank(G, 0.95, i), alpha=min(i*0.1, 1), c='tab:blue')[0])\n",
    "plt.title('PageRank with number of iterations from 1 to 20\\n alpha is 0.95')\n",
    "plt.xlabel('node')\n",
    "plt.ylabel('PageRank')\n",
    "plt.legend([artists[0], artists[-1]], ['number is 1', 'number is 20'])\n",
    "\n",
    "plt.show()"
   ]
  },
  {
   "cell_type": "markdown",
   "metadata": {},
   "source": [
    "Finally, let us check that PageRank converges to degree centrality in an undirected graph.\n",
    "\n",
    "Write a function `rank_degree_scatter` that takes a graph `G`, `alpha` and number of iterations `k` and returns a scatter plot (`matplotlib.collections.PathCollection` object). The function draws a scatter plot with PageRank on x axis and degree centrality on y axis."
   ]
  },
  {
   "cell_type": "code",
   "execution_count": null,
   "metadata": {
    "deletable": false,
    "nbgrader": {
     "cell_type": "code",
     "checksum": "77d141dcebcf0e5663d113eee408de53",
     "grade": false,
     "grade_id": "cell-d989f5ac0a4917a4",
     "locked": false,
     "schema_version": 3,
     "solution": true,
     "task": false
    }
   },
   "outputs": [],
   "source": [
    "def rank_degree_scatter(G, alpha, k):\n",
    "    # YOUR CODE HERE\n",
    "    raise NotImplementedError()"
   ]
  },
  {
   "cell_type": "code",
   "execution_count": null,
   "metadata": {
    "deletable": false,
    "editable": false,
    "nbgrader": {
     "cell_type": "code",
     "checksum": "b2b8b86b14c6061a76a8118c6fa774b4",
     "grade": true,
     "grade_id": "cell-19eb524a6c669e02",
     "locked": true,
     "points": 0.75,
     "schema_version": 3,
     "solution": false,
     "task": false
    }
   },
   "outputs": [],
   "source": [
    "scatter = rank_degree_scatter(G, 0.1, 30)\n",
    "sc_data = scatter.get_offsets().data\n",
    "assert sc_data.shape == (14, 2)\n",
    "assert 0.35 < np.corrcoef(sc_data[:, 0], sc_data[:, 1])[0, 1] < 0.42\n",
    "assert 0.05 < sc_data[:, 0].min() < sc_data[:, 0].max() < 0.08\n",
    "assert 0.01 < sc_data[:, 1].min() < sc_data[:, 1].max() < 0.9"
   ]
  },
  {
   "cell_type": "code",
   "execution_count": null,
   "metadata": {},
   "outputs": [],
   "source": [
    "plt.figure(figsize=(10, 10))\n",
    "\n",
    "cases = [\n",
    "    [0.01, G, 'Directed'],\n",
    "    [0.99, G, 'Directed'],\n",
    "    [0.01, nx.Graph(G), 'Undirected'],\n",
    "    [0.99, nx.Graph(G), 'Undirected'],\n",
    "]\n",
    "\n",
    "for i, (alpha, graph, graph_type) in enumerate(cases):\n",
    "    plt.subplot(2, 2, i+1)\n",
    "    scatter = rank_degree_scatter(graph, alpha, 100)\n",
    "    plt.subplots_adjust(wspace=0.3, hspace=0.3)\n",
    "    plt.xlabel('PageRank')\n",
    "    plt.ylabel('Degree centrality')\n",
    "    plt.title(f'{graph_type} graph, alpha is {alpha}')\n",
    "plt.show()"
   ]
  },
  {
   "cell_type": "markdown",
   "metadata": {},
   "source": [
    "### Task 4. HITS visualization (2 points)"
   ]
  },
  {
   "cell_type": "markdown",
   "metadata": {},
   "source": [
    "In this task we will try to find authorities and hubs in political blogs and visualize them. The data is provided from [Political blogosphere Feb. 2005](http://vlado.fmf.uni-lj.si/pub/networks/data/mix/mixed.htm) dataset.\n",
    "\n",
    "The graph contains parallel edges, but HITS algorithm only works without parallel edges. The simplest way to drop parallel edges is to convert a directed multigraph (`nx.MultiDiGraph`) into a directed graph (`nx.DiGraph`).\n",
    "\n",
    "Write a function `hits_polblogs` that takes a path to a gml file with data and returns a tuple with a graph and two dictionaries of the form\n",
    "* `{node: value}`\n",
    "\n",
    "The first dictionary is hub scores, the second one is authority scores. That is, a full output is `(G, hub, auth)`. Apply `nx.hits` to calculate hub and authority scores."
   ]
  },
  {
   "cell_type": "code",
   "execution_count": null,
   "metadata": {
    "deletable": false,
    "nbgrader": {
     "cell_type": "code",
     "checksum": "7a862b6f8bea5ea09f1475476551ca97",
     "grade": false,
     "grade_id": "cell-a1cef6ac5cb166ca",
     "locked": false,
     "schema_version": 3,
     "solution": true,
     "task": false
    }
   },
   "outputs": [],
   "source": [
    "def hits_polblogs(filename):\n",
    "    # YOUR CODE HERE\n",
    "    raise NotImplementedError()"
   ]
  },
  {
   "cell_type": "code",
   "execution_count": null,
   "metadata": {
    "deletable": false,
    "editable": false,
    "nbgrader": {
     "cell_type": "code",
     "checksum": "6664761484eccdd71800fa8f2a329980",
     "grade": true,
     "grade_id": "cell-6613e1dd2efb04ec",
     "locked": true,
     "points": 1,
     "schema_version": 3,
     "solution": false,
     "task": false
    }
   },
   "outputs": [],
   "source": [
    "url = 'https://raw.githubusercontent.com/netspractice/network-science/main/datasets/polblogs.gml'\n",
    "open('polblogs.gml', 'wb').write(requests.get(url).content)\n",
    "G, hub, auth = hits_polblogs('polblogs.gml')\n",
    "assert type(G) == nx.DiGraph\n",
    "assert len(hub.values()) == len(auth.values()) == 1490\n",
    "assert round(max(hub.values()), 4) == 0.0069\n",
    "assert round(max(auth.values()), 4) == 0.015"
   ]
  },
  {
   "cell_type": "code",
   "execution_count": null,
   "metadata": {},
   "outputs": [],
   "source": [
    "G.number_of_nodes()"
   ]
  },
  {
   "cell_type": "code",
   "execution_count": null,
   "metadata": {},
   "outputs": [],
   "source": [
    "G.number_of_edges()"
   ]
  },
  {
   "cell_type": "markdown",
   "metadata": {},
   "source": [
    "There are many edges and nodes and it makes hard to draw the whole graph. Then, let us draw a scatter plot with hub and authority scores."
   ]
  },
  {
   "cell_type": "code",
   "execution_count": null,
   "metadata": {},
   "outputs": [],
   "source": [
    "plt.figure(figsize=(7, 7))\n",
    "plt.scatter(hub.values(), auth.values(), s=7)\n",
    "plt.xlabel('Hub')\n",
    "plt.ylabel('Authority')\n",
    "plt.show()"
   ]
  },
  {
   "cell_type": "markdown",
   "metadata": {},
   "source": [
    "Next, draw a graph with 14 nodes: top 7 authorities and top 7 hubs. Hubs will be on the left, authorities will be on the right.\n",
    "\n",
    "Write a function `hits_visualization` that takes a graph `G`, hub, authority dictionaries, the number of top nodes and returns a dictionary with keys:\n",
    "* `h_top` — np.array of top nodes by hub score\n",
    "* `a_top` — np.array of top nodes by authority score\n",
    "* `subG` — subgraph of `G` with top nodes only\n",
    "* `h_vals` — np.array with hub scores (in initial graph) of top nodes that ordered by `subG.nodes` view \n",
    "* `a_vals` — the same for authority score\n",
    "* `pos` — dictionary with keys are nodes and values are x-y positions of the form\n",
    "\n",
    "`{node: [x, y]}` where \n",
    "* x equals to 0 if it is a hub and 1 if it is a authority\n",
    "* y equals to an index of top array\n",
    "\n",
    "That is, x could be 0 or 1 and y could be 0, 1, ..., 6."
   ]
  },
  {
   "cell_type": "code",
   "execution_count": null,
   "metadata": {
    "deletable": false,
    "nbgrader": {
     "cell_type": "code",
     "checksum": "1dc553075ab6d9d8a8e25d51b4af595f",
     "grade": false,
     "grade_id": "cell-649d271bd4a397a7",
     "locked": false,
     "schema_version": 3,
     "solution": true,
     "task": false
    }
   },
   "outputs": [],
   "source": [
    "def hits_visualization(G, hub, auth, top):\n",
    "    # YOUR CODE HERE\n",
    "    raise NotImplementedError()"
   ]
  },
  {
   "cell_type": "code",
   "execution_count": null,
   "metadata": {
    "deletable": false,
    "editable": false,
    "nbgrader": {
     "cell_type": "code",
     "checksum": "85a923ed169312040ca0e88351848015",
     "grade": true,
     "grade_id": "cell-e527d05e1009eca3",
     "locked": true,
     "points": 1,
     "schema_version": 3,
     "solution": false,
     "task": false
    }
   },
   "outputs": [],
   "source": [
    "vi = hits_visualization(G, hub, auth, 7)\n",
    "h_top, a_top = vi['h_top'], vi['a_top']\n",
    "h_vals, a_vals = vi['h_vals'], vi['a_vals']\n",
    "subG, pos = vi['subG'], vi['pos']\n",
    "assert h_top.shape[0] == a_top.shape[0] == int(len(subG) / 2) == 7\n",
    "assert 'politicalstrategy.org' == h_top[0]\n",
    "assert 'talkingpointsmemo.com' in a_top\n",
    "assert h_vals.shape == a_vals.shape == (14,)\n",
    "assert h_vals.max() < 0.0069\n",
    "assert 0 <= a_vals.min()\n",
    "assert pos['atrios.blogspot.com'] == [1, 2]\n",
    "assert pos['juancole.com'] == [1, 5]"
   ]
  },
  {
   "cell_type": "markdown",
   "metadata": {},
   "source": [
    "Networkx allows to draw nodes, edges, labels separately. In this case, we need to fix a layout and then draw a graph by layers. Let us draw a graph via `nx.draw_networkx`, then draw right labels and then draw left labels via `nx.draw_networkx_labels`. Also we will crop labels with more than 15 symbols to fit on the screen."
   ]
  },
  {
   "cell_type": "code",
   "execution_count": null,
   "metadata": {},
   "outputs": [],
   "source": [
    "plt.figure(figsize=(12, 8*2))\n",
    "\n",
    "h_labels = {i:i[:15] if len(i)<=15 else i[:15] + '...' for i in h_top}\n",
    "a_labels = {i:i[:15] if len(i)<=15 else i[:15] + '...' for i in a_top}\n",
    "a_pos = {node:(pos[node][0] + 0.1, pos[node][1]) for node in pos}\n",
    "h_pos = {node:(pos[node][0] - 0.1, pos[node][1]) for node in pos}\n",
    "\n",
    "cases = [[1, 'tab:purple', a_vals, 'Node size by authority score'], \n",
    "         [2, 'tab:cyan', h_vals, 'Node size by hub score']]\n",
    "for i, color, vals, t in cases:\n",
    "    plt.subplot(2, 1, i)\n",
    "    plt.gca().axis('off')\n",
    "    nx.draw_networkx(\n",
    "        subG,\n",
    "        pos,\n",
    "        width=0.5,\n",
    "        with_labels=False,\n",
    "        edgecolors='black',\n",
    "        node_size=vals*1e5,\n",
    "        node_color=color\n",
    "    )\n",
    "    nx.draw_networkx_labels(\n",
    "        subG,\n",
    "        pos=a_pos,\n",
    "        labels=a_labels,\n",
    "        horizontalalignment='left'\n",
    "    )\n",
    "    nx.draw_networkx_labels(\n",
    "        subG,\n",
    "        pos=h_pos,\n",
    "        labels=h_labels,\n",
    "        horizontalalignment='right'\n",
    "    )\n",
    "\n",
    "    plt.xlim(-0.5, 1.5)\n",
    "    plt.title(t)"
   ]
  },
  {
   "cell_type": "markdown",
   "metadata": {},
   "source": [
    "### Task 5. Node similarity (0 points)"
   ]
  },
  {
   "cell_type": "markdown",
   "metadata": {},
   "source": [
    "In this section we will look at how nodes can be similar to each other. We will consider the movie co-watch dataset. The dataset is builded based on the MovieLens-100k data. The films have links between when one user gives them the highest rate and watch both."
   ]
  },
  {
   "cell_type": "code",
   "execution_count": null,
   "metadata": {},
   "outputs": [],
   "source": [
    "url = \"https://raw.githubusercontent.com/netspractice/network-science/main/datasets/movies.gml\"\n",
    "open('movie-cowatch.gml', 'wb').write(requests.get(url).content)\n",
    "G = nx.read_gml('movie-cowatch.gml')"
   ]
  },
  {
   "cell_type": "code",
   "execution_count": null,
   "metadata": {},
   "outputs": [],
   "source": [
    "labs = nx.get_node_attributes(G, \"movieName\")\n",
    "labs = {i:labs[i][:15] if len(labs[i])<=15 else labs[i][:15] + '...' for i in labs}\n",
    "plt.figure(figsize=(10, 10))\n",
    "plt.gca().axis('off')\n",
    "\n",
    "pos = nx.kamada_kawai_layout(G)\n",
    "nx.draw_networkx_nodes(\n",
    "    G,\n",
    "    pos,\n",
    "    node_color='tab:cyan'\n",
    ")\n",
    "nx.draw_networkx_edges(\n",
    "    G,\n",
    "    pos,\n",
    "    width=2,\n",
    "    alpha=0.1,\n",
    ")\n",
    "nx.draw_networkx_labels(\n",
    "    G,\n",
    "    pos,\n",
    "    labels=labs\n",
    ")\n",
    "plt.show()"
   ]
  },
  {
   "cell_type": "markdown",
   "metadata": {},
   "source": [
    "Write a function `sim_matrices` that takes a graph and returns a tuple with similarity matrices:\n",
    "* Adjacency matrix\n",
    "* Pearson correlation\n",
    "* Jaccard similarity\n",
    "* Cosine similarity\n",
    "\n",
    "Look at networkx, sklearn, numpy."
   ]
  },
  {
   "cell_type": "code",
   "execution_count": null,
   "metadata": {
    "deletable": false,
    "nbgrader": {
     "cell_type": "code",
     "checksum": "a4675ca8cd1017e9253e288075ef2d94",
     "grade": false,
     "grade_id": "cell-573a4e98e9a01195",
     "locked": false,
     "schema_version": 3,
     "solution": true,
     "task": false
    }
   },
   "outputs": [],
   "source": [
    "def sim_matrices(G):\n",
    "    # YOUR CODE HERE\n",
    "    raise NotImplementedError()"
   ]
  },
  {
   "cell_type": "code",
   "execution_count": null,
   "metadata": {
    "deletable": false,
    "editable": false,
    "nbgrader": {
     "cell_type": "code",
     "checksum": "940ac5f93c44c96f0dc7d8f121e0c7db",
     "grade": true,
     "grade_id": "cell-a9782cc7dfcdf06d",
     "locked": true,
     "points": 0,
     "schema_version": 3,
     "solution": false,
     "task": false
    }
   },
   "outputs": [],
   "source": [
    "A, corr, J, cos = sim_matrices(G)\n",
    "assert A.shape == corr.shape == J.shape == cos.shape == (34,34)\n",
    "assert A[0].sum() == 33\n",
    "assert corr[0].sum().round(4) == -2.5541\n",
    "assert J[1].sum().round(4) == 1.7667\n",
    "assert cos[0].sum().round(4) == 28.4601"
   ]
  },
  {
   "cell_type": "markdown",
   "metadata": {},
   "source": [
    "Let us draw heatmaps of these similarities."
   ]
  },
  {
   "cell_type": "code",
   "execution_count": null,
   "metadata": {},
   "outputs": [],
   "source": [
    "fig = plt.figure(figsize=(9, 9*4))\n",
    "plt.subplots_adjust(hspace=0.4, wspace=0.4)\n",
    "cases = [[1, A, plt.cm.Greys, 'Adjacency matrix'], \n",
    "         [2, corr, None, 'Pearson correlation'], \n",
    "         [3, J, None, 'Jaccard similarity'], \n",
    "         [4, cos, None, 'Cosine similarity'], ]\n",
    "for i, matrix, cmap, t in cases:\n",
    "    plt.subplot(4, 1, i)\n",
    "    hmap = sns.heatmap(\n",
    "        matrix,\n",
    "        cmap=cmap,\n",
    "        square=True,\n",
    "        yticklabels=[labs.get(i) for i in G.nodes])\n",
    "    hmap.set_xticklabels(\n",
    "        labels=[labs.get(i) for i in G.nodes], \n",
    "        horizontalalignment='right')\n",
    "    plt.title(t)"
   ]
  },
  {
   "cell_type": "markdown",
   "metadata": {},
   "source": [
    "### Task 6. Cuthill-McKee reordering (3 points)"
   ]
  },
  {
   "cell_type": "markdown",
   "metadata": {},
   "source": [
    "Without special preprocess procedures an adjacency matrix can look very noisy and hide network's structure. There are some procedures of node reordering that provides a better view of the network's adjacency matrix. Reverse Cuthill-McKee finds permutation of the nodes that minimizes the bandwidth of the matrix, which is calculated as\n",
    "\n",
    "$$ \\theta = \\max_{a_{ij} > 0}|i-j|$$\n",
    "\n",
    "Unformally, this algorithm puts some mass on the diagonal of adjacency matrix. \n",
    "\n",
    "Write a function `cm_order` that takes a graph and returns a np.array with a permutation of the form $[i_1, i_2, \\dots, i_n]$ where $i_1$ is an index of the first row and the first column.\n",
    "\n",
    "Apply `scipy.sparse.csgraph.reverse_cuthill_mckee` or `nx.utils.reverse_cuthill_mckee_ordering`."
   ]
  },
  {
   "cell_type": "code",
   "execution_count": null,
   "metadata": {
    "deletable": false,
    "nbgrader": {
     "cell_type": "code",
     "checksum": "b00bb7c47401a601c3121fcb9e59036b",
     "grade": false,
     "grade_id": "cell-aebff5f597011ed8",
     "locked": false,
     "schema_version": 3,
     "solution": true,
     "task": false
    }
   },
   "outputs": [],
   "source": [
    "def cm_order(G):\n",
    "    # YOUR CODE HERE\n",
    "    raise NotImplementedError()"
   ]
  },
  {
   "cell_type": "code",
   "execution_count": null,
   "metadata": {
    "deletable": false,
    "editable": false,
    "nbgrader": {
     "cell_type": "code",
     "checksum": "d5b52cd21accbc753e9d5cd159d7977f",
     "grade": true,
     "grade_id": "cell-3bfc3b5f9b286f1d",
     "locked": true,
     "points": 3,
     "schema_version": 3,
     "solution": false,
     "task": false
    }
   },
   "outputs": [],
   "source": [
    "order = cm_order(G)\n",
    "assert order.shape == (34,)\n",
    "assert order[4:6].sum() < order[:3].sum() < order[4:7].sum()"
   ]
  },
  {
   "cell_type": "markdown",
   "metadata": {},
   "source": [
    "Let us draw the heatmaps with a default and changed order side-by-side. A default order will be on the left, a changed order — on the right."
   ]
  },
  {
   "cell_type": "code",
   "execution_count": null,
   "metadata": {},
   "outputs": [],
   "source": [
    "fig = plt.figure(figsize=(16, 16*2))\n",
    "plt.subplots_adjust(hspace=0.4, wspace=0.4)\n",
    "\n",
    "cases = [[1, A, plt.cm.Greys, 'Adjacency', range(34)],\n",
    "         [2, A, plt.cm.Greys, 'Adjacency (reordered)', order],\n",
    "         [3, corr, None, 'Pearson correlation', range(34)], \n",
    "         [4, corr, None, 'Pearson correlation (reordered)', order], \n",
    "         [5, J, None, 'Jaccard similarity', range(34)], \n",
    "         [6, J, None, 'Jaccard similarity (reordered)', order], \n",
    "         [7, cos, None, 'Cosine similarity', range(34)], \n",
    "         [8, cos, None, 'Cosine similarity (reordered)', order]]\n",
    "\n",
    "newLabs = np.array([labs.get(i) for i in G.nodes])\n",
    "\n",
    "for i, matrix, cmap, t, o in cases:\n",
    "    plt.subplot(4, 2, i)\n",
    "    hmap = sns.heatmap(\n",
    "        matrix[np.ix_(o, o)],\n",
    "        cmap=cmap,\n",
    "        cbar=False,\n",
    "        square=True,\n",
    "        yticklabels=newLabs[o])\n",
    "    hmap.set_xticklabels(\n",
    "        labels=newLabs[o], \n",
    "        rotation=90)\n",
    "    plt.title(t)"
   ]
  },
  {
   "cell_type": "markdown",
   "metadata": {},
   "source": [
    "We can observe that the right-hand heatmaps look smoother, and we can detect dense regions on them."
   ]
  },
  {
   "cell_type": "markdown",
   "metadata": {},
   "source": [
    "### Task 7. Assortative mixing visualization (2 points)"
   ]
  },
  {
   "cell_type": "markdown",
   "metadata": {},
   "source": [
    "In this task, we look at the same dataset. One can find that graph have attribute `Genre`. Let us draw assortative mixing of a `Genre` attribute. How often persons from one house kills persons from another?\n",
    "\n",
    "Write a function `genre_mixing` that takes a graph `G` and returns tuple with a matrix of assortative mixing `nx.attribute_mixing_matrix` by a `Genre` attribute and a dictionary with mapping of the form\n",
    "* `{genre: index in the matrix}`"
   ]
  },
  {
   "cell_type": "code",
   "execution_count": null,
   "metadata": {
    "deletable": false,
    "nbgrader": {
     "cell_type": "code",
     "checksum": "9cf7b11e1f792471d0ea7b04e94728a4",
     "grade": false,
     "grade_id": "cell-79c873b1cebc9371",
     "locked": false,
     "schema_version": 3,
     "solution": true,
     "task": false
    }
   },
   "outputs": [],
   "source": [
    "def genre_mixing(G):\n",
    "    # YOUR CODE HERE\n",
    "    raise NotImplementedError()"
   ]
  },
  {
   "cell_type": "code",
   "execution_count": null,
   "metadata": {
    "deletable": false,
    "editable": false,
    "nbgrader": {
     "cell_type": "code",
     "checksum": "6adcbb206221375948846b2f9bb37095",
     "grade": true,
     "grade_id": "cell-fcea4b43c9640440",
     "locked": true,
     "points": 2,
     "schema_version": 3,
     "solution": false,
     "task": false
    }
   },
   "outputs": [],
   "source": [
    "mixing, mapping = genre_mixing(G)\n",
    "assert mixing.shape == (8, 8)\n",
    "assert mixing.max() < 0.08\n",
    "assert mixing.min() == 0\n",
    "assert mapping.get(\"Comedy\") is not None"
   ]
  },
  {
   "cell_type": "code",
   "execution_count": null,
   "metadata": {},
   "outputs": [],
   "source": [
    "fig = plt.figure(figsize=(8, 8))\n",
    "hmap = sns.heatmap(\n",
    "    mixing,\n",
    "    cbar=False,\n",
    "    annot=True,\n",
    "    square=True)\n",
    "hmap.set_xticklabels(\n",
    "    labels=[m for m in mapping], \n",
    "    rotation=45, \n",
    "    horizontalalignment='right')\n",
    "hmap.set_yticklabels(\n",
    "    labels=[m for m in mapping], \n",
    "    rotation=0)\n",
    "plt.show()"
   ]
  },
  {
   "cell_type": "code",
   "execution_count": null,
   "metadata": {},
   "outputs": [],
   "source": []
  }
 ],
 "metadata": {
  "kernelspec": {
   "display_name": "Python 3",
   "language": "python",
   "name": "python3"
  },
  "language_info": {
   "codemirror_mode": {
    "name": "ipython",
    "version": 3
   },
   "file_extension": ".py",
   "mimetype": "text/x-python",
   "name": "python",
   "nbconvert_exporter": "python",
   "pygments_lexer": "ipython3",
   "version": "3.8.10"
  }
 },
 "nbformat": 4,
 "nbformat_minor": 4
}
